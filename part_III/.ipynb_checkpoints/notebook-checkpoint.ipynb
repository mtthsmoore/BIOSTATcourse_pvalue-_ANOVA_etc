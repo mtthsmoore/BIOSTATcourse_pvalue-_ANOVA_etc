{
 "cells": [
  {
   "cell_type": "code",
   "execution_count": 1,
   "metadata": {},
   "outputs": [
    {
     "data": {
      "text/html": [
       "<link href='http://fonts.googleapis.com/css?family=Alegreya+Sans:100,300,400,500,700,800,900,100italic,300italic,400italic,500italic,700italic,800italic,900italic' rel='stylesheet' type='text/css'>\n",
       "<link href='http://fonts.googleapis.com/css?family=Arvo:400,700,400italic' rel='stylesheet' type='text/css'>\n",
       "<link href='http://fonts.googleapis.com/css?family=PT+Mono' rel='stylesheet' type='text/css'>\n",
       "<link href='http://fonts.googleapis.com/css?family=Shadows+Into+Light' rel='stylesheet' type='text/css'>\n",
       "<link href='http://fonts.googleapis.com/css?family=Philosopher:400,700,400italic,700italic' rel='stylesheet' type='text/css'>\n",
       "<link href='http://fonts.googleapis.com/css?family=Open+Sans' rel='stylesheet' type='text/css'>\n",
       "\n",
       "<style>\n",
       "\n",
       "@font-face {\n",
       "    font-family: \"Computer Modern\";\n",
       "    src: url('http://mirrors.ctan.org/fonts/cm-unicode/fonts/otf/cmunss.otf');\n",
       "}\n",
       "\n",
       "\n",
       "#notebook_panel { /* main background */\n",
       "    background: #888;\n",
       "    color: #f6f6f6;\n",
       "}\n",
       "\n",
       "div.cell { /* set cell width to about 80 chars */\n",
       "}\n",
       "\n",
       "div #notebook { /* centre the content */\n",
       "    background: #fff; /* white background for content */\n",
       "    margin: auto;\n",
       "}\n",
       "\n",
       "#notebook li { /* More space between bullet points */\n",
       "margin-top:0.8em;\n",
       "}\n",
       "\n",
       "/* draw border around running cells */\n",
       "div.cell.border-box-sizing.code_cell.running {\n",
       "    border: 3px solid #111;\n",
       "}\n",
       "\n",
       "/* Put a solid color box around each cell and its output, visually linking them together */\n",
       "div.cell.code_cell {\n",
       "    /*background-color: rgba(171,165,131,0.3); /*\n",
       "    border-radius: 10px; /* rounded borders */\n",
       "    padding: 1em;\n",
       "    /*margin-top: 1em;*/\n",
       "}\n",
       "\n",
       "div.text_cell_render{\n",
       "    font-family: 'Open Sans', Helvetica;\n",
       "    line-height: 140%;\n",
       "    font-size: 105%;\n",
       "    /*margin-top:15px;*/\n",
       "    margin-bottom:8px;\n",
       "    text-align:justify;\n",
       "}\n",
       "\n",
       "/* Formatting for header cells */\n",
       ".text_cell_render h1 {\n",
       "    font-family: 'Open Sans',sans-serif;\n",
       "    font-weight: 700;\n",
       "    font-size: 30pt;\n",
       "    line-height: 100%;\n",
       "    display: block;\n",
       "    margin-bottom: 50px;\n",
       "}\n",
       "\n",
       ".text_cell_render h2 {\n",
       "    font-family: 'Open Sans', serif;\n",
       "    font-weight: 100;\n",
       "    font-size: 24pt;\n",
       "    line-height: 100%;\n",
       "    display: block;\n",
       "    margin-bottom: .3em;\n",
       "}    \n",
       "\n",
       ".text_cell_render h3 {\n",
       "    font-family: 'Open Sans', serif;\n",
       "    font-weight: 100;\n",
       "    font-size: 22pt;\n",
       "    line-height: 100%;\n",
       "    display: block;\n",
       "    margin-bottom: 30px;\n",
       "}\n",
       "\n",
       ".text_cell_render h4 {\n",
       "    font-family: 'Open Sans', serif;\n",
       "}\n",
       "\n",
       ".text_cell_render h5 {\n",
       "    font-family: 'Alegreya Sans', sans-serif;\n",
       "    font-weight: 300;\n",
       "    font-size: 16pt;\n",
       "    color: grey;\n",
       "    font-style: italic;\n",
       "    margin-bottom: .1em;\n",
       "    margin-top: 0.1em;\n",
       "    display: block;\n",
       "}\n",
       "\n",
       ".text_cell_render h6 {\n",
       "    font-family: 'PT Mono', sans-serif;\n",
       "    font-weight: 300;\n",
       "    font-size: 10pt;\n",
       "    color: grey;\n",
       "    margin-bottom: 1px;\n",
       "    margin-top: 1px;\n",
       "}\n",
       "\n",
       ".CodeMirror{\n",
       "        font-family: \"PT Mono\";\n",
       "        font-size: 100%;\n",
       "}\n",
       "\n",
       ".output_area {\n",
       "\tmargin-top:20px;\n",
       "}\n",
       "\n",
       ".output_stderr {\n",
       "\tdisplay:none;\n",
       "\t}\n",
       "\n",
       ".output_subarea {\n",
       "\tdisplay: block;\n",
       "    margin: 0 auto;\n",
       "}\n",
       "\n",
       ".output_png img {\n",
       "    display: block;\n",
       "    margin-left: auto;\n",
       "    margin-right: auto;\n",
       "}\n",
       "\n",
       ".prompt {\n",
       "\tvisible: false;\n",
       "\t}\n",
       "\n",
       "</style>\n",
       "\n"
      ],
      "text/plain": [
       "<IPython.core.display.HTML object>"
      ]
     },
     "execution_count": 1,
     "metadata": {},
     "output_type": "execute_result"
    }
   ],
   "source": [
    "from matplotlib.pyplot import *\n",
    "import matplotlib.pyplot as plt\n",
    "%matplotlib inline\n",
    "import numpy as np\n",
    "import pandas as pd\n",
    "import scipy.stats as stats\n",
    "import seaborn as sns\n",
    "sns.set_style(\"whitegrid\", {'axes.grid' : False})\n",
    "\n",
    "from IPython.display import set_matplotlib_formats\n",
    "set_matplotlib_formats('png','pdf')\n",
    "plt.rcParams['font.size'] = 14\n",
    "\n",
    "np.random.seed(1)\n",
    "\n",
    "import imp;\n",
    "from IPython.core.display import HTML\n",
    "css_file = '../my.css';\n",
    "HTML(open(css_file, \"r\").read())"
   ]
  },
  {
   "cell_type": "markdown",
   "metadata": {},
   "source": [
    "### One-way Analysis Of Variance (ANOVA)\n",
    "\n",
    "One-way ANOVA is a statistical method to test the claim that the means of **two or more** samples $x_i$ with sample size $n_i$ ($i=1 \\ldots k$) are equal. The test makes the following assumptions:\n",
    "\n",
    "- the shape of the population from which the samples are drawn should be normal\n",
    "- all samples have equal variance\n",
    "- all samples should be drawn independently\n",
    "\n",
    "Again there are two hypothesis:\n",
    "\n",
    "- The null hypothesis $H_0$ states that the means $\\overline{x}_i$ with $i=1 \\ldots k$ are equal.\n",
    "- The alternative hypothesis $H_1$ states that the means $\\overline{x}_i$ with $i=1 \\ldots k$ are not equal.\n",
    "\n",
    "As with the two sample t-test, the ANOVA test can also be formulated as a test to determine whether two or more independent samples with equal variance were drawn from populations having the same normal distribution. \n",
    "\n",
    "One-way ANOVA is a generalization of the two sample t-test. To illustrate this we assume to have access to two gene expression level populations with a difference in mean. We draw one sample with sample size $n=9$ from each population and perform a two sample t-test and a one-way ANOVA test to compute a p-value for the null hypothesis:"
   ]
  },
  {
   "cell_type": "code",
   "execution_count": 2,
   "metadata": {},
   "outputs": [
    {
     "name": "stdout",
     "output_type": "stream",
     "text": [
      "two sample t-test:\n",
      "Ttest_indResult(statistic=-3.9482390041166515, pvalue=0.0011507408616140947)\n",
      "one-way ANOVA:\n",
      "F_onewayResult(statistic=15.588591233628064, pvalue=0.0011507408616140908)\n"
     ]
    }
   ],
   "source": [
    "mu_geneA = 0.26\n",
    "sigma_geneA = 0.01\n",
    "mu_geneB = 0.28\n",
    "sigma_geneB = 0.01\n",
    "\n",
    "N = 100000\n",
    "\n",
    "population_geneA = np.random.normal(size=N,loc=mu_geneA,scale=sigma_geneA)\n",
    "population_geneB = np.random.normal(size=N,loc=mu_geneB,scale=sigma_geneB)\n",
    "\n",
    "n = 9\n",
    "\n",
    "geneA = np.random.choice(population_geneA,size=n)\n",
    "geneB = np.random.choice(population_geneB,size=n)\n",
    "print \"two sample t-test:\"\n",
    "print stats.ttest_ind(geneA,geneB)\n",
    "print \"one-way ANOVA:\"\n",
    "print stats.f_oneway(geneA,geneB)"
   ]
  },
  {
   "cell_type": "markdown",
   "metadata": {},
   "source": [
    "We can see that the p-values computed by both tests are exactly the same. It is the test statistic that is different. ANOVA computes an **F-statistic** that is simply a ratio of two variances. So, where the two sample t-test T-statistic looks at the difference in mean between two samples, the one-way ANOVA F-statistics looks at the **ratio of two variances**. \n",
    "\n",
    "Conidere a typical ANOVA example in which we want to test the effect of a certain treatment on the expression level of a specific gene. There are three types of treatment: \"T1\", \"T2\" and \"T3\". We have four samples. The first sample contains gene expression levels of mice that did not undergo any treatment. The next three samples contain gene expression levels of mice treated with treatment \"T1\", \"T2\" and \"T3\" respectively. We assume each sample has sample size $n_1=n_2=n_3=n_4=12$.\n",
    "\n",
    "We want to test if the means of the four samples are equal (i.e. there is no effect of any of the treatments). The following code creates these samples such that the means of the populations from which the samples are drawn is indeed equal:"
   ]
  },
  {
   "cell_type": "code",
   "execution_count": 3,
   "metadata": {},
   "outputs": [],
   "source": [
    "mu_control = 0.26\n",
    "mu_T1 = 0.26\n",
    "mu_T2 = 0.26\n",
    "mu_T3 = 0.26\n",
    "sigma = 0.05 #equal variance is assumed\n",
    "\n",
    "n = 12\n",
    "\n",
    "sample_control = np.random.normal(size=n,loc=mu_control,scale=sigma)\n",
    "sample_T1 = np.random.normal(size=n,loc=mu_T1,scale=sigma)\n",
    "sample_T2 = np.random.normal(size=n,loc=mu_T2,scale=sigma)\n",
    "sample_T3 = np.random.normal(size=n,loc=mu_T3,scale=sigma)"
   ]
  },
  {
   "cell_type": "markdown",
   "metadata": {},
   "source": [
    "In ANOVA we don't talk about samples (eventhough they are samples) but instead we refer to the difference between the samples as a **factor**. For our dataset we call the factor \"treatment\" ((concidering no treatment (control) as a special type of treatment). This factor has four **levels** or **groups**: \"control\", \"T1\", \"T2\" and \"T3\".\n",
    "\n",
    "To make this more clear we create a dataset with two columns: \"treatment\" (our factor) that tells the type of treatment (the level) of an observation and \"expression_level\" that contains the measured gene expression level for an observation (the random variable):"
   ]
  },
  {
   "cell_type": "code",
   "execution_count": 4,
   "metadata": {},
   "outputs": [],
   "source": [
    "df = pd.DataFrame()\n",
    "df[\"treatment\"] = [\"control\"]*n + [\"T1\"]*n + [\"T2\"]*n + [\"T3\"]*n\n",
    "df[\"expression_level\"] = np.concatenate((sample_control,sample_T1,sample_T2,sample_T3))"
   ]
  },
  {
   "cell_type": "markdown",
   "metadata": {},
   "source": [
    "Now our dataset looks like this:"
   ]
  },
  {
   "cell_type": "code",
   "execution_count": 5,
   "metadata": {},
   "outputs": [
    {
     "data": {
      "text/html": [
       "<div>\n",
       "<style scoped>\n",
       "    .dataframe tbody tr th:only-of-type {\n",
       "        vertical-align: middle;\n",
       "    }\n",
       "\n",
       "    .dataframe tbody tr th {\n",
       "        vertical-align: top;\n",
       "    }\n",
       "\n",
       "    .dataframe thead th {\n",
       "        text-align: right;\n",
       "    }\n",
       "</style>\n",
       "<table border=\"1\" class=\"dataframe\">\n",
       "  <thead>\n",
       "    <tr style=\"text-align: right;\">\n",
       "      <th></th>\n",
       "      <th>treatment</th>\n",
       "      <th>expression_level</th>\n",
       "    </tr>\n",
       "  </thead>\n",
       "  <tbody>\n",
       "    <tr>\n",
       "      <th>0</th>\n",
       "      <td>control</td>\n",
       "      <td>0.326380</td>\n",
       "    </tr>\n",
       "    <tr>\n",
       "      <th>1</th>\n",
       "      <td>control</td>\n",
       "      <td>0.330980</td>\n",
       "    </tr>\n",
       "    <tr>\n",
       "      <th>2</th>\n",
       "      <td>control</td>\n",
       "      <td>0.233936</td>\n",
       "    </tr>\n",
       "    <tr>\n",
       "      <th>3</th>\n",
       "      <td>control</td>\n",
       "      <td>0.231986</td>\n",
       "    </tr>\n",
       "    <tr>\n",
       "      <th>4</th>\n",
       "      <td>control</td>\n",
       "      <td>0.251545</td>\n",
       "    </tr>\n",
       "    <tr>\n",
       "      <th>5</th>\n",
       "      <td>control</td>\n",
       "      <td>0.247676</td>\n",
       "    </tr>\n",
       "    <tr>\n",
       "      <th>6</th>\n",
       "      <td>control</td>\n",
       "      <td>0.172833</td>\n",
       "    </tr>\n",
       "    <tr>\n",
       "      <th>7</th>\n",
       "      <td>control</td>\n",
       "      <td>0.175973</td>\n",
       "    </tr>\n",
       "    <tr>\n",
       "      <th>8</th>\n",
       "      <td>control</td>\n",
       "      <td>0.211387</td>\n",
       "    </tr>\n",
       "    <tr>\n",
       "      <th>9</th>\n",
       "      <td>control</td>\n",
       "      <td>0.218889</td>\n",
       "    </tr>\n",
       "    <tr>\n",
       "      <th>10</th>\n",
       "      <td>control</td>\n",
       "      <td>0.282916</td>\n",
       "    </tr>\n",
       "    <tr>\n",
       "      <th>11</th>\n",
       "      <td>control</td>\n",
       "      <td>0.254287</td>\n",
       "    </tr>\n",
       "    <tr>\n",
       "      <th>12</th>\n",
       "      <td>T1</td>\n",
       "      <td>0.217738</td>\n",
       "    </tr>\n",
       "    <tr>\n",
       "      <th>13</th>\n",
       "      <td>T1</td>\n",
       "      <td>0.249644</td>\n",
       "    </tr>\n",
       "    <tr>\n",
       "      <th>14</th>\n",
       "      <td>T1</td>\n",
       "      <td>0.374702</td>\n",
       "    </tr>\n",
       "    <tr>\n",
       "      <th>15</th>\n",
       "      <td>T1</td>\n",
       "      <td>0.297223</td>\n",
       "    </tr>\n",
       "    <tr>\n",
       "      <th>16</th>\n",
       "      <td>T1</td>\n",
       "      <td>0.248781</td>\n",
       "    </tr>\n",
       "    <tr>\n",
       "      <th>17</th>\n",
       "      <td>T1</td>\n",
       "      <td>0.248220</td>\n",
       "    </tr>\n",
       "    <tr>\n",
       "      <th>18</th>\n",
       "      <td>T1</td>\n",
       "      <td>0.258802</td>\n",
       "    </tr>\n",
       "    <tr>\n",
       "      <th>19</th>\n",
       "      <td>T1</td>\n",
       "      <td>0.248944</td>\n",
       "    </tr>\n",
       "    <tr>\n",
       "      <th>20</th>\n",
       "      <td>T1</td>\n",
       "      <td>0.208824</td>\n",
       "    </tr>\n",
       "    <tr>\n",
       "      <th>21</th>\n",
       "      <td>T1</td>\n",
       "      <td>0.300422</td>\n",
       "    </tr>\n",
       "    <tr>\n",
       "      <th>22</th>\n",
       "      <td>T1</td>\n",
       "      <td>0.297763</td>\n",
       "    </tr>\n",
       "    <tr>\n",
       "      <th>23</th>\n",
       "      <td>T1</td>\n",
       "      <td>0.161863</td>\n",
       "    </tr>\n",
       "    <tr>\n",
       "      <th>24</th>\n",
       "      <td>T2</td>\n",
       "      <td>0.238400</td>\n",
       "    </tr>\n",
       "    <tr>\n",
       "      <th>25</th>\n",
       "      <td>T2</td>\n",
       "      <td>0.305584</td>\n",
       "    </tr>\n",
       "    <tr>\n",
       "      <th>26</th>\n",
       "      <td>T2</td>\n",
       "      <td>0.317158</td>\n",
       "    </tr>\n",
       "    <tr>\n",
       "      <th>27</th>\n",
       "      <td>T2</td>\n",
       "      <td>0.284099</td>\n",
       "    </tr>\n",
       "    <tr>\n",
       "      <th>28</th>\n",
       "      <td>T2</td>\n",
       "      <td>0.226387</td>\n",
       "    </tr>\n",
       "    <tr>\n",
       "      <th>29</th>\n",
       "      <td>T2</td>\n",
       "      <td>0.223508</td>\n",
       "    </tr>\n",
       "    <tr>\n",
       "      <th>30</th>\n",
       "      <td>T2</td>\n",
       "      <td>0.210679</td>\n",
       "    </tr>\n",
       "    <tr>\n",
       "      <th>31</th>\n",
       "      <td>T2</td>\n",
       "      <td>0.220600</td>\n",
       "    </tr>\n",
       "    <tr>\n",
       "      <th>32</th>\n",
       "      <td>T2</td>\n",
       "      <td>0.224252</td>\n",
       "    </tr>\n",
       "    <tr>\n",
       "      <th>33</th>\n",
       "      <td>T2</td>\n",
       "      <td>0.240360</td>\n",
       "    </tr>\n",
       "    <tr>\n",
       "      <th>34</th>\n",
       "      <td>T2</td>\n",
       "      <td>0.258395</td>\n",
       "    </tr>\n",
       "    <tr>\n",
       "      <th>35</th>\n",
       "      <td>T2</td>\n",
       "      <td>0.186641</td>\n",
       "    </tr>\n",
       "    <tr>\n",
       "      <th>36</th>\n",
       "      <td>T3</td>\n",
       "      <td>0.281290</td>\n",
       "    </tr>\n",
       "    <tr>\n",
       "      <th>37</th>\n",
       "      <td>T3</td>\n",
       "      <td>0.264894</td>\n",
       "    </tr>\n",
       "    <tr>\n",
       "      <th>38</th>\n",
       "      <td>T3</td>\n",
       "      <td>0.260658</td>\n",
       "    </tr>\n",
       "    <tr>\n",
       "      <th>39</th>\n",
       "      <td>T3</td>\n",
       "      <td>0.182808</td>\n",
       "    </tr>\n",
       "    <tr>\n",
       "      <th>40</th>\n",
       "      <td>T3</td>\n",
       "      <td>0.276515</td>\n",
       "    </tr>\n",
       "    <tr>\n",
       "      <th>41</th>\n",
       "      <td>T3</td>\n",
       "      <td>0.370146</td>\n",
       "    </tr>\n",
       "    <tr>\n",
       "      <th>42</th>\n",
       "      <td>T3</td>\n",
       "      <td>0.255009</td>\n",
       "    </tr>\n",
       "    <tr>\n",
       "      <th>43</th>\n",
       "      <td>T3</td>\n",
       "      <td>0.193305</td>\n",
       "    </tr>\n",
       "    <tr>\n",
       "      <th>44</th>\n",
       "      <td>T3</td>\n",
       "      <td>0.208994</td>\n",
       "    </tr>\n",
       "    <tr>\n",
       "      <th>45</th>\n",
       "      <td>T3</td>\n",
       "      <td>0.270619</td>\n",
       "    </tr>\n",
       "    <tr>\n",
       "      <th>46</th>\n",
       "      <td>T3</td>\n",
       "      <td>0.200931</td>\n",
       "    </tr>\n",
       "    <tr>\n",
       "      <th>47</th>\n",
       "      <td>T3</td>\n",
       "      <td>0.294830</td>\n",
       "    </tr>\n",
       "  </tbody>\n",
       "</table>\n",
       "</div>"
      ],
      "text/plain": [
       "   treatment  expression_level\n",
       "0    control          0.326380\n",
       "1    control          0.330980\n",
       "2    control          0.233936\n",
       "3    control          0.231986\n",
       "4    control          0.251545\n",
       "5    control          0.247676\n",
       "6    control          0.172833\n",
       "7    control          0.175973\n",
       "8    control          0.211387\n",
       "9    control          0.218889\n",
       "10   control          0.282916\n",
       "11   control          0.254287\n",
       "12        T1          0.217738\n",
       "13        T1          0.249644\n",
       "14        T1          0.374702\n",
       "15        T1          0.297223\n",
       "16        T1          0.248781\n",
       "17        T1          0.248220\n",
       "18        T1          0.258802\n",
       "19        T1          0.248944\n",
       "20        T1          0.208824\n",
       "21        T1          0.300422\n",
       "22        T1          0.297763\n",
       "23        T1          0.161863\n",
       "24        T2          0.238400\n",
       "25        T2          0.305584\n",
       "26        T2          0.317158\n",
       "27        T2          0.284099\n",
       "28        T2          0.226387\n",
       "29        T2          0.223508\n",
       "30        T2          0.210679\n",
       "31        T2          0.220600\n",
       "32        T2          0.224252\n",
       "33        T2          0.240360\n",
       "34        T2          0.258395\n",
       "35        T2          0.186641\n",
       "36        T3          0.281290\n",
       "37        T3          0.264894\n",
       "38        T3          0.260658\n",
       "39        T3          0.182808\n",
       "40        T3          0.276515\n",
       "41        T3          0.370146\n",
       "42        T3          0.255009\n",
       "43        T3          0.193305\n",
       "44        T3          0.208994\n",
       "45        T3          0.270619\n",
       "46        T3          0.200931\n",
       "47        T3          0.294830"
      ]
     },
     "execution_count": 5,
     "metadata": {},
     "output_type": "execute_result"
    }
   ],
   "source": [
    "df"
   ]
  },
  {
   "cell_type": "markdown",
   "metadata": {},
   "source": [
    "To gain insight into the dataset we plot a boxplot for the total gene expression level and then we create four boxplots for the gene expression level in each of the four levels of the factor \"treatment\":"
   ]
  },
  {
   "cell_type": "code",
   "execution_count": 6,
   "metadata": {},
   "outputs": [
    {
     "data": {
      "application/pdf": "[encoded data removed]",
      "image/png": "[encoded data removed]",
      "text/plain": [
       "<matplotlib.figure.Figure at 0xc260748>"
      ]
     },
     "metadata": {},
     "output_type": "display_data"
    }
   ],
   "source": [
    "plt.figure(figsize=(11,5))\n",
    "plt.subplot(1,2,1)\n",
    "ax = sns.boxplot(y=\"expression_level\",data=df,showmeans=True)\n",
    "ax.set_xlabel(\"total\")\n",
    "plt.subplot(1,2,2)\n",
    "sns.boxplot(x=\"treatment\",y=\"expression_level\",data=df,showmeans=True)\n",
    "plt.show()"
   ]
  },
  {
   "cell_type": "markdown",
   "metadata": {},
   "source": [
    "The mean for each distribution is indicated by the green triangle. We see that these sample means differ. But again, is this difference significant? Is it bigger than expected due to the uncertainty in the sampling? We know that it is not.\n",
    "\n",
    "Let's compute the F-statistic. The first variance in the statistic is the variation between the $k=4$ sample means $\\overline{x}_i$. This variation is also known as the \"**between group variation**\" or as the \"**explained variance**\" as it is the variance in the gene expression that is caused (or can be explained) by the treatment. The variance is computed as what is known as the **treatment sum of squares**:\n",
    "\n",
    "$$SST=\\sum_{i=1}^{k}{n_i(\\overline{x}_i - \\overline{x}_{total})^2},$$\n",
    "\n",
    "where $\\overline{x}_i$ is the mean of the observations in level $i$ and $\\overline{x}_{total}$ is the mean of all observations in the dataset. \n",
    "\n",
    "The code below computes the SST for our four samples:"
   ]
  },
  {
   "cell_type": "code",
   "execution_count": 7,
   "metadata": {},
   "outputs": [
    {
     "name": "stdout",
     "output_type": "stream",
     "text": [
      "SST = 0.001968\n"
     ]
    }
   ],
   "source": [
    "def compute_SST(control,T1,T2,T3):\n",
    "    mean_total = np.mean(np.concatenate((control,T1,T2,T3)))\n",
    "    \n",
    "    mean_control = np.mean(control)\n",
    "    mean_T1 = np.mean(T1)\n",
    "    mean_T2 = np.mean(T2)\n",
    "    mean_T3 = np.mean(T3)\n",
    "    \n",
    "    SST = len(control)*(mean_control-mean_total)**2\n",
    "    SST += len(T1)*(mean_T1-mean_total)**2\n",
    "    SST += len(T2)*(mean_T2-mean_total)**2\n",
    "    SST += len(T3)*(mean_T3-mean_total)**2\n",
    "\n",
    "    return SST\n",
    "\n",
    "SST = compute_SST(sample_control,sample_T1,sample_T2,sample_T3)\n",
    "print \"SST = %f\" % SST"
   ]
  },
  {
   "cell_type": "markdown",
   "metadata": {},
   "source": [
    "The second variance in the F-statistic is the variation within the samples, also known as the \"**within group variation**\" or \"**unexplained variance**\". This is computed as the **sum of squares of the error**:\n",
    "\n",
    "$$SSE=\\sum_{i=1}^{k}{\\sum_{j=1}^{n_i}{(x_{ij} - \\overline{x}_i)^2}},$$\n",
    "\n",
    "where $x_{ij}$ id the $j$th observation in sample $i$. \n",
    "\n",
    "The following code computes the SSE:"
   ]
  },
  {
   "cell_type": "code",
   "execution_count": 8,
   "metadata": {},
   "outputs": [
    {
     "name": "stdout",
     "output_type": "stream",
     "text": [
      "SSE = 0.107293\n"
     ]
    }
   ],
   "source": [
    "def compute_SSE(control,T1,T2,T3):\n",
    "    mean_control = np.mean(control)\n",
    "    mean_T1 = np.mean(T1)\n",
    "    mean_T2 = np.mean(T2)\n",
    "    mean_T3 = np.mean(T3)\n",
    "    \n",
    "    SSE = np.sum([(y-mean_control)**2 for y in control])\n",
    "    SSE += np.sum([(y-mean_T1)**2 for y in T1])\n",
    "    SSE += np.sum([(y-mean_T2)**2 for y in T2])\n",
    "    SSE += np.sum([(y-mean_T3)**2 for y in T3])\n",
    "    \n",
    "    return SSE\n",
    "    \n",
    "SSE = compute_SSE(sample_control,sample_T1,sample_T2,sample_T3)        \n",
    "print \"SSE = %f\" % SSE"
   ]
  },
  {
   "cell_type": "markdown",
   "metadata": {},
   "source": [
    "What is important to realize is that we have just partioned the total variance of the expression levels into two parts: one part SST caused by the treatment and one part SSE caused by an unknown source.\n",
    "\n",
    "We can check this. The variance of the expression level in the dataset (not taking treatment into account) is computed by the **total sum of squares**:\n",
    "\n",
    "$$TSS=\\sum_{i=1}^{k}{\\sum_{j=1}^{n_i}{(x_{ij} - \\overline{x}_{total})^2}}.$$\n",
    "\n",
    "The following code computes the TTS:"
   ]
  },
  {
   "cell_type": "code",
   "execution_count": 9,
   "metadata": {},
   "outputs": [
    {
     "name": "stdout",
     "output_type": "stream",
     "text": [
      "TSS = 0.109261\n"
     ]
    }
   ],
   "source": [
    "def compute_TSS(control,T1,T2,T3):\n",
    "    mean_total = np.mean(np.concatenate((control,T1,T2,T3)))\n",
    "    \n",
    "    TSS = np.sum([(y-mean_total)**2 for y in control])\n",
    "    TSS += np.sum([(y-mean_total)**2 for y in T1])\n",
    "    TSS += np.sum([(y-mean_total)**2 for y in T2])\n",
    "    TSS += np.sum([(y-mean_total)**2 for y in T3])\n",
    "    \n",
    "    return TSS\n",
    "    \n",
    "TSS = compute_TSS(sample_control,sample_T1,sample_T2,sample_T3)        \n",
    "print \"TSS = %f\" % TSS"
   ]
  },
  {
   "cell_type": "markdown",
   "metadata": {},
   "source": [
    "We now have that TSS = SST + SSE:"
   ]
  },
  {
   "cell_type": "code",
   "execution_count": 10,
   "metadata": {},
   "outputs": [
    {
     "name": "stdout",
     "output_type": "stream",
     "text": [
      "0.10926068778284104\n"
     ]
    }
   ],
   "source": [
    "print SST + SSE"
   ]
  },
  {
   "cell_type": "markdown",
   "metadata": {},
   "source": [
    "The F-statistic computed by ANOVA is the ratio of SST and SSE (with some variance normalization as we have seen before):\n",
    "\n",
    "$$\\frac{SST/(k-1)}{SSE/(n_t-k)},$$\n",
    "\n",
    "where $n_t$ is total number of observations in the dataset. The F-statistic increases as the SST increases and/or as the SSE decreases. To state this differently: the F-statistic increases as the explained variance gets larger than the unexplained variance. Note that a larger explained variance means a larger effect of the factor on the total variance in the dataset, i.e. a larger difference between the means of the factor levels.\n",
    "\n",
    "If the null hypothesis is true then the F-statistic follows an F-distribution with $df_1=k-1$ and $df_2=n_t-k$ degrees of freedom. For our dataset the F-statistic is:"
   ]
  },
  {
   "cell_type": "code",
   "execution_count": 11,
   "metadata": {},
   "outputs": [
    {
     "name": "stdout",
     "output_type": "stream",
     "text": [
      "0.2690322819972136\n"
     ]
    }
   ],
   "source": [
    "k = 4\n",
    "N = k*n\n",
    "\n",
    "F = (SST/(k-1))/(SSE/(N-k))\n",
    "print F"
   ]
  },
  {
   "cell_type": "markdown",
   "metadata": {},
   "source": [
    "The Python function to perform one-way ANOVA shows that this is indeed  the correct value and also computes the p-value for the F-statistic:"
   ]
  },
  {
   "cell_type": "code",
   "execution_count": 12,
   "metadata": {},
   "outputs": [
    {
     "name": "stdout",
     "output_type": "stream",
     "text": [
      "F_onewayResult(statistic=0.26903228199721374, pvalue=0.847367420790879)\n"
     ]
    }
   ],
   "source": [
    "print stats.f_oneway(sample_control,sample_T1,sample_T2,sample_T3)"
   ]
  },
  {
   "cell_type": "markdown",
   "metadata": {},
   "source": [
    "There is another Python function for ANOVA that provides more details on the SST and the SSE:"
   ]
  },
  {
   "cell_type": "code",
   "execution_count": 13,
   "metadata": {},
   "outputs": [
    {
     "name": "stderr",
     "output_type": "stream",
     "text": [
      "C:\\Users\\Work\\Anaconda2\\lib\\site-packages\\statsmodels\\compat\\pandas.py:56: FutureWarning: The pandas.core.datetools module is deprecated and will be removed in a future version. Please use the pandas.tseries module instead.\n",
      "  from pandas.core import datetools\n"
     ]
    },
    {
     "name": "stdout",
     "output_type": "stream",
     "text": [
      "             sum_sq    df         F    PR(>F)\n",
      "treatment  0.001968   3.0  0.269032  0.847367\n",
      "Residual   0.107293  44.0       NaN       NaN\n"
     ]
    }
   ],
   "source": [
    "import statsmodels.api as sm\n",
    "from statsmodels.formula.api import ols\n",
    " \n",
    "mod = ols('expression_level ~ treatment',\n",
    "                data=df).fit()\n",
    "                \n",
    "aov_table = sm.stats.anova_lm(mod, typ=2)\n",
    "print aov_table"
   ]
  },
  {
   "cell_type": "markdown",
   "metadata": {},
   "source": [
    "The column \"sum_sq\" shows the sum of squares SST in row \"treatment\" and SSE in row \"Residual\" (the unexplained variance is sometimes also refered to as the **residuals**). The column \"df\" shows the degrees of freedom for each variance and the column \"F\" shows the F-statistic. Finally the last column shows the p-value for the factor \"treatment\". We can see that the values for SST and SSE are the same as what we computed above.\n",
    "\n",
    "Consider the example above with treatment T2 showing an increased gene expression level:"
   ]
  },
  {
   "cell_type": "code",
   "execution_count": 14,
   "metadata": {},
   "outputs": [
    {
     "data": {
      "application/pdf": "[encoded data removed]",
      "image/png": "[encoded data removed]",
      "text/plain": [
       "<matplotlib.figure.Figure at 0xd836c50>"
      ]
     },
     "metadata": {},
     "output_type": "display_data"
    }
   ],
   "source": [
    "mu_control = 0.26\n",
    "mu_T1 = 0.26\n",
    "mu_T2 = 0.27\n",
    "mu_T3 = 0.26\n",
    "sigma = 0.01 #equal variance is assumed\n",
    "\n",
    "n = 12\n",
    "\n",
    "sample_control = np.random.normal(size=n,loc=mu_control,scale=sigma)\n",
    "sample_T1 = np.random.normal(size=n,loc=mu_T1,scale=sigma)\n",
    "sample_T2 = np.random.normal(size=n,loc=mu_T2,scale=sigma)\n",
    "sample_T3 = np.random.normal(size=n,loc=mu_T3,scale=sigma)\n",
    "\n",
    "df = pd.DataFrame()\n",
    "df[\"treatment\"] = [\"control\"]*n + [\"T1\"]*n + [\"T2\"]*n + [\"T3\"]*n\n",
    "df[\"expression_level\"] = np.concatenate((sample_control,sample_T1,sample_T2,sample_T3))\n",
    "\n",
    "plt.figure(figsize=(11,4))\n",
    "plt.subplot(1,2,1)\n",
    "ax = sns.boxplot(y=\"expression_level\",data=df,showmeans=True)\n",
    "ax.set_xlabel(\"total\")\n",
    "plt.subplot(1,2,2)\n",
    "sns.boxplot(x=\"treatment\",y=\"expression_level\",data=df,showmeans=True)\n",
    "plt.show()"
   ]
  },
  {
   "cell_type": "markdown",
   "metadata": {},
   "source": [
    "If we now perform ANOVA we see that the p-value for treatment is very small and we reject the null hypothesis if $\\alpha=0.01$:"
   ]
  },
  {
   "cell_type": "code",
   "execution_count": 15,
   "metadata": {},
   "outputs": [
    {
     "name": "stdout",
     "output_type": "stream",
     "text": [
      "             sum_sq    df         F    PR(>F)\n",
      "treatment  0.001384   3.0  5.945948  0.001702\n",
      "Residual   0.003413  44.0       NaN       NaN\n"
     ]
    }
   ],
   "source": [
    "mod = ols('expression_level ~ treatment',\n",
    "                data=df).fit()\n",
    "                \n",
    "aov_table = sm.stats.anova_lm(mod, typ=2)\n",
    "print aov_table"
   ]
  },
  {
   "cell_type": "markdown",
   "metadata": {},
   "source": [
    "The ANOVA says that the means of the four samples are not equal. But we do not know which mean(s) differ(s). Other statistical tests such as the least significant difference test can gain more insight into which level(s) differ(s). This test is only used when the null hypothesis is rejected as a result of your hypothesis test results.\n",
    "\n",
    "Also, we could perform several pair-wise two sample t-tests. Then why perform one-way ANOVA if we can just do all pair-wise two-sample comparisons? The answer lies again in the power of the test. An ANOVA analysis is more likely to correctly reject the null hypothesis than any of the more sepecific pair-wise t-test, i.e. ANOVA has higher power.\n",
    "\n",
    "### two-way ANOVA\n",
    "\n",
    "In our gene expression dataset we called the treatment a factor. A factor has two or more levels. In our dataset there are $l_t=4$ levels: \"control\", \"T1\", \"T2\" and \"T3\". In two-way ANOVA there are **two factors**, each with two or more levels.\n",
    "\n",
    "Let's add another factor to our dataset. Suppose we take the sex of a model mouse into account. We add (randomly) a second factor \"sex\" to the dataset with $l_s=2$ levels: \"female\" and \"male\":"
   ]
  },
  {
   "cell_type": "code",
   "execution_count": 16,
   "metadata": {},
   "outputs": [],
   "source": [
    "df[\"sex\"] = [\"female\" if x%2==0 else \"male\" for x in range(k*n)]\n",
    "df = df[[\"treatment\",\"sex\",\"expression_level\"]].sort_values([\"treatment\",\"sex\"])"
   ]
  },
  {
   "cell_type": "markdown",
   "metadata": {},
   "source": [
    "This is what this dataset looks like:"
   ]
  },
  {
   "cell_type": "code",
   "execution_count": 17,
   "metadata": {},
   "outputs": [
    {
     "data": {
      "text/html": [
       "<div>\n",
       "<style scoped>\n",
       "    .dataframe tbody tr th:only-of-type {\n",
       "        vertical-align: middle;\n",
       "    }\n",
       "\n",
       "    .dataframe tbody tr th {\n",
       "        vertical-align: top;\n",
       "    }\n",
       "\n",
       "    .dataframe thead th {\n",
       "        text-align: right;\n",
       "    }\n",
       "</style>\n",
       "<table border=\"1\" class=\"dataframe\">\n",
       "  <thead>\n",
       "    <tr style=\"text-align: right;\">\n",
       "      <th></th>\n",
       "      <th>treatment</th>\n",
       "      <th>sex</th>\n",
       "      <th>expression_level</th>\n",
       "    </tr>\n",
       "  </thead>\n",
       "  <tbody>\n",
       "    <tr>\n",
       "      <th>12</th>\n",
       "      <td>T1</td>\n",
       "      <td>female</td>\n",
       "      <td>0.281227</td>\n",
       "    </tr>\n",
       "    <tr>\n",
       "      <th>14</th>\n",
       "      <td>T1</td>\n",
       "      <td>female</td>\n",
       "      <td>0.262805</td>\n",
       "    </tr>\n",
       "    <tr>\n",
       "      <th>16</th>\n",
       "      <td>T1</td>\n",
       "      <td>female</td>\n",
       "      <td>0.267566</td>\n",
       "    </tr>\n",
       "    <tr>\n",
       "      <th>18</th>\n",
       "      <td>T1</td>\n",
       "      <td>female</td>\n",
       "      <td>0.251616</td>\n",
       "    </tr>\n",
       "    <tr>\n",
       "      <th>20</th>\n",
       "      <td>T1</td>\n",
       "      <td>female</td>\n",
       "      <td>0.260910</td>\n",
       "    </tr>\n",
       "    <tr>\n",
       "      <th>22</th>\n",
       "      <td>T1</td>\n",
       "      <td>female</td>\n",
       "      <td>0.263783</td>\n",
       "    </tr>\n",
       "    <tr>\n",
       "      <th>13</th>\n",
       "      <td>T1</td>\n",
       "      <td>male</td>\n",
       "      <td>0.259894</td>\n",
       "    </tr>\n",
       "    <tr>\n",
       "      <th>15</th>\n",
       "      <td>T1</td>\n",
       "      <td>male</td>\n",
       "      <td>0.277001</td>\n",
       "    </tr>\n",
       "    <tr>\n",
       "      <th>17</th>\n",
       "      <td>T1</td>\n",
       "      <td>male</td>\n",
       "      <td>0.268181</td>\n",
       "    </tr>\n",
       "    <tr>\n",
       "      <th>19</th>\n",
       "      <td>T1</td>\n",
       "      <td>male</td>\n",
       "      <td>0.259060</td>\n",
       "    </tr>\n",
       "    <tr>\n",
       "      <th>21</th>\n",
       "      <td>T1</td>\n",
       "      <td>male</td>\n",
       "      <td>0.251584</td>\n",
       "    </tr>\n",
       "    <tr>\n",
       "      <th>23</th>\n",
       "      <td>T1</td>\n",
       "      <td>male</td>\n",
       "      <td>0.274318</td>\n",
       "    </tr>\n",
       "    <tr>\n",
       "      <th>24</th>\n",
       "      <td>T2</td>\n",
       "      <td>female</td>\n",
       "      <td>0.278930</td>\n",
       "    </tr>\n",
       "    <tr>\n",
       "      <th>26</th>\n",
       "      <td>T2</td>\n",
       "      <td>female</td>\n",
       "      <td>0.271869</td>\n",
       "    </tr>\n",
       "    <tr>\n",
       "      <th>28</th>\n",
       "      <td>T2</td>\n",
       "      <td>female</td>\n",
       "      <td>0.270452</td>\n",
       "    </tr>\n",
       "    <tr>\n",
       "      <th>30</th>\n",
       "      <td>T2</td>\n",
       "      <td>female</td>\n",
       "      <td>0.275059</td>\n",
       "    </tr>\n",
       "    <tr>\n",
       "      <th>32</th>\n",
       "      <td>T2</td>\n",
       "      <td>female</td>\n",
       "      <td>0.288902</td>\n",
       "    </tr>\n",
       "    <tr>\n",
       "      <th>34</th>\n",
       "      <td>T2</td>\n",
       "      <td>female</td>\n",
       "      <td>0.277323</td>\n",
       "    </tr>\n",
       "    <tr>\n",
       "      <th>25</th>\n",
       "      <td>T2</td>\n",
       "      <td>male</td>\n",
       "      <td>0.272366</td>\n",
       "    </tr>\n",
       "    <tr>\n",
       "      <th>27</th>\n",
       "      <td>T2</td>\n",
       "      <td>male</td>\n",
       "      <td>0.276475</td>\n",
       "    </tr>\n",
       "    <tr>\n",
       "      <th>29</th>\n",
       "      <td>T2</td>\n",
       "      <td>male</td>\n",
       "      <td>0.274933</td>\n",
       "    </tr>\n",
       "    <tr>\n",
       "      <th>31</th>\n",
       "      <td>T2</td>\n",
       "      <td>male</td>\n",
       "      <td>0.266206</td>\n",
       "    </tr>\n",
       "    <tr>\n",
       "      <th>33</th>\n",
       "      <td>T2</td>\n",
       "      <td>male</td>\n",
       "      <td>0.273193</td>\n",
       "    </tr>\n",
       "    <tr>\n",
       "      <th>35</th>\n",
       "      <td>T2</td>\n",
       "      <td>male</td>\n",
       "      <td>0.264755</td>\n",
       "    </tr>\n",
       "    <tr>\n",
       "      <th>36</th>\n",
       "      <td>T3</td>\n",
       "      <td>female</td>\n",
       "      <td>0.254197</td>\n",
       "    </tr>\n",
       "    <tr>\n",
       "      <th>38</th>\n",
       "      <td>T3</td>\n",
       "      <td>female</td>\n",
       "      <td>0.255980</td>\n",
       "    </tr>\n",
       "    <tr>\n",
       "      <th>40</th>\n",
       "      <td>T3</td>\n",
       "      <td>female</td>\n",
       "      <td>0.261410</td>\n",
       "    </tr>\n",
       "    <tr>\n",
       "      <th>42</th>\n",
       "      <td>T3</td>\n",
       "      <td>female</td>\n",
       "      <td>0.264282</td>\n",
       "    </tr>\n",
       "    <tr>\n",
       "      <th>44</th>\n",
       "      <td>T3</td>\n",
       "      <td>female</td>\n",
       "      <td>0.272751</td>\n",
       "    </tr>\n",
       "    <tr>\n",
       "      <th>46</th>\n",
       "      <td>T3</td>\n",
       "      <td>female</td>\n",
       "      <td>0.260296</td>\n",
       "    </tr>\n",
       "    <tr>\n",
       "      <th>37</th>\n",
       "      <td>T3</td>\n",
       "      <td>male</td>\n",
       "      <td>0.265033</td>\n",
       "    </tr>\n",
       "    <tr>\n",
       "      <th>39</th>\n",
       "      <td>T3</td>\n",
       "      <td>male</td>\n",
       "      <td>0.252234</td>\n",
       "    </tr>\n",
       "    <tr>\n",
       "      <th>41</th>\n",
       "      <td>T3</td>\n",
       "      <td>male</td>\n",
       "      <td>0.264260</td>\n",
       "    </tr>\n",
       "    <tr>\n",
       "      <th>43</th>\n",
       "      <td>T3</td>\n",
       "      <td>male</td>\n",
       "      <td>0.272493</td>\n",
       "    </tr>\n",
       "    <tr>\n",
       "      <th>45</th>\n",
       "      <td>T3</td>\n",
       "      <td>male</td>\n",
       "      <td>0.256140</td>\n",
       "    </tr>\n",
       "    <tr>\n",
       "      <th>47</th>\n",
       "      <td>T3</td>\n",
       "      <td>male</td>\n",
       "      <td>0.253509</td>\n",
       "    </tr>\n",
       "    <tr>\n",
       "      <th>0</th>\n",
       "      <td>control</td>\n",
       "      <td>female</td>\n",
       "      <td>0.247753</td>\n",
       "    </tr>\n",
       "    <tr>\n",
       "      <th>2</th>\n",
       "      <td>control</td>\n",
       "      <td>female</td>\n",
       "      <td>0.256006</td>\n",
       "    </tr>\n",
       "    <tr>\n",
       "      <th>4</th>\n",
       "      <td>control</td>\n",
       "      <td>female</td>\n",
       "      <td>0.264524</td>\n",
       "    </tr>\n",
       "    <tr>\n",
       "      <th>6</th>\n",
       "      <td>control</td>\n",
       "      <td>female</td>\n",
       "      <td>0.263114</td>\n",
       "    </tr>\n",
       "    <tr>\n",
       "      <th>8</th>\n",
       "      <td>control</td>\n",
       "      <td>female</td>\n",
       "      <td>0.266383</td>\n",
       "    </tr>\n",
       "    <tr>\n",
       "      <th>10</th>\n",
       "      <td>control</td>\n",
       "      <td>female</td>\n",
       "      <td>0.256344</td>\n",
       "    </tr>\n",
       "    <tr>\n",
       "      <th>1</th>\n",
       "      <td>control</td>\n",
       "      <td>male</td>\n",
       "      <td>0.270909</td>\n",
       "    </tr>\n",
       "    <tr>\n",
       "      <th>3</th>\n",
       "      <td>control</td>\n",
       "      <td>male</td>\n",
       "      <td>0.256938</td>\n",
       "    </tr>\n",
       "    <tr>\n",
       "      <th>5</th>\n",
       "      <td>control</td>\n",
       "      <td>male</td>\n",
       "      <td>0.244115</td>\n",
       "    </tr>\n",
       "    <tr>\n",
       "      <th>7</th>\n",
       "      <td>control</td>\n",
       "      <td>male</td>\n",
       "      <td>0.256060</td>\n",
       "    </tr>\n",
       "    <tr>\n",
       "      <th>9</th>\n",
       "      <td>control</td>\n",
       "      <td>male</td>\n",
       "      <td>0.289251</td>\n",
       "    </tr>\n",
       "    <tr>\n",
       "      <th>11</th>\n",
       "      <td>control</td>\n",
       "      <td>male</td>\n",
       "      <td>0.261714</td>\n",
       "    </tr>\n",
       "  </tbody>\n",
       "</table>\n",
       "</div>"
      ],
      "text/plain": [
       "   treatment     sex  expression_level\n",
       "12        T1  female          0.281227\n",
       "14        T1  female          0.262805\n",
       "16        T1  female          0.267566\n",
       "18        T1  female          0.251616\n",
       "20        T1  female          0.260910\n",
       "22        T1  female          0.263783\n",
       "13        T1    male          0.259894\n",
       "15        T1    male          0.277001\n",
       "17        T1    male          0.268181\n",
       "19        T1    male          0.259060\n",
       "21        T1    male          0.251584\n",
       "23        T1    male          0.274318\n",
       "24        T2  female          0.278930\n",
       "26        T2  female          0.271869\n",
       "28        T2  female          0.270452\n",
       "30        T2  female          0.275059\n",
       "32        T2  female          0.288902\n",
       "34        T2  female          0.277323\n",
       "25        T2    male          0.272366\n",
       "27        T2    male          0.276475\n",
       "29        T2    male          0.274933\n",
       "31        T2    male          0.266206\n",
       "33        T2    male          0.273193\n",
       "35        T2    male          0.264755\n",
       "36        T3  female          0.254197\n",
       "38        T3  female          0.255980\n",
       "40        T3  female          0.261410\n",
       "42        T3  female          0.264282\n",
       "44        T3  female          0.272751\n",
       "46        T3  female          0.260296\n",
       "37        T3    male          0.265033\n",
       "39        T3    male          0.252234\n",
       "41        T3    male          0.264260\n",
       "43        T3    male          0.272493\n",
       "45        T3    male          0.256140\n",
       "47        T3    male          0.253509\n",
       "0    control  female          0.247753\n",
       "2    control  female          0.256006\n",
       "4    control  female          0.264524\n",
       "6    control  female          0.263114\n",
       "8    control  female          0.266383\n",
       "10   control  female          0.256344\n",
       "1    control    male          0.270909\n",
       "3    control    male          0.256938\n",
       "5    control    male          0.244115\n",
       "7    control    male          0.256060\n",
       "9    control    male          0.289251\n",
       "11   control    male          0.261714"
      ]
     },
     "execution_count": 17,
     "metadata": {},
     "output_type": "execute_result"
    }
   ],
   "source": [
    "df"
   ]
  },
  {
   "cell_type": "markdown",
   "metadata": {},
   "source": [
    "For each of the $l_t \\times l_s = 8$ level combinations the dataset contains $r=6$ observations.\n",
    "\n",
    "We can plot this dataset as boxplots for each factor level and for each combination of levels between the factors (remember that treatment \"T2\" has an increased expression level in our dataset):"
   ]
  },
  {
   "cell_type": "code",
   "execution_count": 18,
   "metadata": {
    "scrolled": false
   },
   "outputs": [
    {
     "data": {
      "application/pdf": "[encoded data removed]",
      "image/png": "[encoded data removed]",
      "text/plain": [
       "<matplotlib.figure.Figure at 0xdbeb358>"
      ]
     },
     "metadata": {},
     "output_type": "display_data"
    }
   ],
   "source": [
    "plt.figure(figsize=(16,10))\n",
    "plt.subplot(2,2,1)\n",
    "ax = sns.boxplot(y=\"expression_level\",data=df,showmeans=True)\n",
    "ax.set_xlabel(\"total\")\n",
    "plt.subplot(2,2,2)\n",
    "ax = sns.boxplot(x=\"treatment\",y=\"expression_level\",hue=\"sex\",data=df,showmeans=True)\n",
    "plt.subplot(2,2,3)\n",
    "ax = sns.boxplot(x=\"treatment\",y=\"expression_level\",data=df,showmeans=True)\n",
    "plt.subplot(2,2,4)\n",
    "ax = sns.boxplot(x=\"sex\",y=\"expression_level\",data=df,showmeans=True)\n",
    "plt.show()"
   ]
  },
  {
   "cell_type": "markdown",
   "metadata": {},
   "source": [
    "We can perform a one-way ANOVA for the factor \"treatment\" again (so not taking the factor \"sex\" into account):"
   ]
  },
  {
   "cell_type": "code",
   "execution_count": 19,
   "metadata": {},
   "outputs": [
    {
     "name": "stdout",
     "output_type": "stream",
     "text": [
      "             sum_sq    df         F    PR(>F)\n",
      "treatment  0.001384   3.0  5.945948  0.001702\n",
      "Residual   0.003413  44.0       NaN       NaN\n"
     ]
    }
   ],
   "source": [
    "mod = ols('expression_level ~ treatment',\n",
    "                data=df).fit()\n",
    "                \n",
    "aov_table = sm.stats.anova_lm(mod, typ=2)\n",
    "print aov_table"
   ]
  },
  {
   "cell_type": "markdown",
   "metadata": {},
   "source": [
    "At $\\alpha=0.01$ the test correctly rejects the null hypothesis. \n",
    "\n",
    "Also, we can perform a one-way ANOVA for the factor \"sex\" (so not taking the factor \"treatment\" into account):"
   ]
  },
  {
   "cell_type": "code",
   "execution_count": 20,
   "metadata": {},
   "outputs": [
    {
     "name": "stdout",
     "output_type": "stream",
     "text": [
      "            sum_sq    df         F   PR(>F)\n",
      "sex       0.000003   1.0  0.033092  0.85645\n",
      "Residual  0.004793  46.0       NaN      NaN\n"
     ]
    }
   ],
   "source": [
    "mod = ols('expression_level ~ sex',\n",
    "                data=df).fit()\n",
    "                \n",
    "aov_table = sm.stats.anova_lm(mod, typ=2)\n",
    "print aov_table"
   ]
  },
  {
   "cell_type": "markdown",
   "metadata": {},
   "source": [
    "At $\\alpha=0.01$ the test correctly accepts the null hypothesis as we assigned the levels for factor \"sex\" randomly.\n",
    "\n",
    "In two-way ANOVA both factors are taken into account when computing the F-statistic. Similar to one-way ANOVA the total variance $TSS$ of the gene expresion level is partitioned into the variance $SS_{treatment}$ caused by the factor \"treatment\", the variance $SS_{sex}$ caused by the factor \"sex\" and the variance $SSE$ caused by an unknown source:\n",
    "\n",
    "$$TSS=SS_{treatment}+SS_{sex}+SSE.$$\n",
    "\n",
    "So, without going into too much mathematics, what does this mean? \n",
    "\n",
    "First we perform a two-way ANOVA on our dataset. We can do this in Python as follows:"
   ]
  },
  {
   "cell_type": "code",
   "execution_count": 21,
   "metadata": {},
   "outputs": [
    {
     "name": "stdout",
     "output_type": "stream",
     "text": [
      "             sum_sq    df         F    PR(>F)\n",
      "treatment  0.001384   3.0  5.816689  0.001986\n",
      "sex        0.000003   1.0  0.043488  0.835794\n",
      "Residual   0.003410  43.0       NaN       NaN\n"
     ]
    }
   ],
   "source": [
    "mod = ols('expression_level ~ treatment + sex',\n",
    "                data=df).fit()\n",
    "                \n",
    "aov_table = sm.stats.anova_lm(mod, typ=2)\n",
    "print aov_table"
   ]
  },
  {
   "cell_type": "markdown",
   "metadata": {},
   "source": [
    "Notice how a row is added for the factor \"sex\". We have two p-values: one for factor \"treatment\" and one for factor \"sex\". At $\\alpha=0.01$ only factor \"treatment\" shows a difference in mean for one or more of the levels.\n",
    "\n",
    "Now we make a drastic change in our dataset. We increase the gene expression level for male mice consistently with 0.05:"
   ]
  },
  {
   "cell_type": "code",
   "execution_count": 22,
   "metadata": {
    "scrolled": false
   },
   "outputs": [
    {
     "name": "stderr",
     "output_type": "stream",
     "text": [
      "C:\\Users\\Work\\Anaconda2\\lib\\site-packages\\pandas\\core\\indexing.py:537: SettingWithCopyWarning: \n",
      "A value is trying to be set on a copy of a slice from a DataFrame.\n",
      "Try using .loc[row_indexer,col_indexer] = value instead\n",
      "\n",
      "See the caveats in the documentation: http://pandas.pydata.org/pandas-docs/stable/indexing.html#indexing-view-versus-copy\n",
      "  self.obj[item] = s\n"
     ]
    }
   ],
   "source": [
    "df_male = df[df.sex==\"male\"]\n",
    "df_female = df[df.sex==\"female\"]\n",
    "df_male.loc[:,\"expression_level\"] = df_male.loc[:,\"expression_level\"] + 0.05\n",
    "df2 = pd.concat([df_male,df_female])"
   ]
  },
  {
   "cell_type": "markdown",
   "metadata": {},
   "source": [
    "If we plot our dataset now we get:"
   ]
  },
  {
   "cell_type": "code",
   "execution_count": 23,
   "metadata": {},
   "outputs": [
    {
     "data": {
      "application/pdf": "[encoded data removed]",
      "image/png": "[encoded data removed]",
      "text/plain": [
       "<matplotlib.figure.Figure at 0xd9749e8>"
      ]
     },
     "metadata": {},
     "output_type": "display_data"
    }
   ],
   "source": [
    "plt.figure(figsize=(16,6))\n",
    "plt.subplot(1,2,1)\n",
    "ax = sns.boxplot(y=\"expression_level\",hue=\"treatment\",data=df2,showmeans=True)\n",
    "ax.set_xlabel(\"total\")\n",
    "plt.subplot(1,2,2)\n",
    "sns.boxplot(x=\"treatment\",y=\"expression_level\",hue=\"sex\",data=df2,showmeans=True)\n",
    "plt.show()"
   ]
  },
  {
   "cell_type": "markdown",
   "metadata": {},
   "source": [
    "The first thing we notice is that the total variance (the variance for all the observations (not taking the two factors into account)) is much larger than the variance of the eight factor level combinations individually. This large variance is caused by the fact that male mice have much higher geneA expression levels than female mice.\n",
    "\n",
    "When we perform one-way ANOVA for the factor \"treatment\" then the factor \"sex\" (which we don't take into account when doing a one-way ANOVA on \"treatment\") increases the variance in the four levels of factor \"treatment\". We can plot this as follows:"
   ]
  },
  {
   "cell_type": "code",
   "execution_count": 24,
   "metadata": {},
   "outputs": [
    {
     "data": {
      "application/pdf": "[encoded data removed]",
      "image/png": "[encoded data removed]",
      "text/plain": [
       "<matplotlib.figure.Figure at 0xfc333c8>"
      ]
     },
     "metadata": {},
     "output_type": "display_data"
    }
   ],
   "source": [
    "plt.figure(figsize=(16,6))\n",
    "plt.subplot(1,2,1)\n",
    "ax = sns.boxplot(y=\"expression_level\",hue=\"treatment\",data=df2,showmeans=True)\n",
    "ax.set_xlabel(\"total\")\n",
    "plt.subplot(1,2,2)\n",
    "sns.boxplot(x=\"treatment\",y=\"expression_level\",data=df2,showmeans=True)\n",
    "plt.show()"
   ]
  },
  {
   "cell_type": "markdown",
   "metadata": {},
   "source": [
    "When we perform a one-way ANOVA we get:"
   ]
  },
  {
   "cell_type": "code",
   "execution_count": 25,
   "metadata": {},
   "outputs": [
    {
     "name": "stdout",
     "output_type": "stream",
     "text": [
      "             sum_sq    df         F    PR(>F)\n",
      "treatment  0.001384   3.0  0.619269  0.606255\n",
      "Residual   0.032770  44.0       NaN       NaN\n"
     ]
    }
   ],
   "source": [
    "mod = ols('expression_level ~ treatment',\n",
    "                data=df2).fit()\n",
    "                \n",
    "aov_table = sm.stats.anova_lm(mod, typ=2)\n",
    "print aov_table"
   ]
  },
  {
   "cell_type": "markdown",
   "metadata": {},
   "source": [
    "So, even though we know that level \"T2\" in factor \"treatment\" does have an effect on the gene expression (increased expression level), it is not detected by the hypothesis test. This is because of the large variance caused by the factor \"sex\". We can see this clearly in the following boxplots showing expression levels for the factor \"sex\":"
   ]
  },
  {
   "cell_type": "code",
   "execution_count": 26,
   "metadata": {},
   "outputs": [
    {
     "data": {
      "application/pdf": "[encoded data removed]",
      "image/png": "[encoded data removed]",
      "text/plain": [
       "<matplotlib.figure.Figure at 0xc314fd0>"
      ]
     },
     "metadata": {},
     "output_type": "display_data"
    }
   ],
   "source": [
    "plt.figure(figsize=(16,6))\n",
    "plt.subplot(1,2,1)\n",
    "ax = sns.boxplot(y=\"expression_level\",hue=\"treatment\",data=df2,showmeans=True)\n",
    "ax.set_xlabel(\"total\")\n",
    "plt.subplot(1,2,2)\n",
    "sns.boxplot(x=\"sex\",y=\"expression_level\",data=df2,showmeans=True)\n",
    "plt.show()"
   ]
  },
  {
   "cell_type": "markdown",
   "metadata": {},
   "source": [
    "We can see how most of the total variance can be explained by the factor \"sex\". The one-way ANOVA confirms this:"
   ]
  },
  {
   "cell_type": "code",
   "execution_count": 27,
   "metadata": {},
   "outputs": [
    {
     "name": "stdout",
     "output_type": "stream",
     "text": [
      "\n",
      "            sum_sq    df           F        PR(>F)\n",
      "sex       0.029360   1.0  281.771448  3.053987e-21\n",
      "Residual  0.004793  46.0         NaN           NaN\n"
     ]
    }
   ],
   "source": [
    "print\n",
    "mod = ols('expression_level ~ sex',\n",
    "                data=df2).fit()\n",
    "                \n",
    "aov_table = sm.stats.anova_lm(mod, typ=2)\n",
    "print aov_table"
   ]
  },
  {
   "cell_type": "markdown",
   "metadata": {},
   "source": [
    "We do obtain a very small p-value.\n",
    "\n",
    "Let's compute the two-way ANOVA p-values:"
   ]
  },
  {
   "cell_type": "code",
   "execution_count": 28,
   "metadata": {},
   "outputs": [
    {
     "name": "stdout",
     "output_type": "stream",
     "text": [
      "             sum_sq    df           F        PR(>F)\n",
      "treatment  0.001384   3.0    5.816689  1.986050e-03\n",
      "sex        0.029360   1.0  370.284849  9.454352e-23\n",
      "Residual   0.003410  43.0         NaN           NaN\n"
     ]
    }
   ],
   "source": [
    "mod = ols('expression_level ~ treatment + sex',\n",
    "                data=df2).fit()\n",
    "                \n",
    "aov_table = sm.stats.anova_lm(mod, typ=2)\n",
    "print aov_table"
   ]
  },
  {
   "cell_type": "markdown",
   "metadata": {},
   "source": [
    "Now we can see that, as expected, both p-values are below $\\alpha=0.01$. This is because in two-way ANOVA there are two assignable sources of variation (\"treatment\" and \"sex\" in our example) and **this reduces error variation** thereby giving the test more power. The main difference with one-way ANOVA is the computation of the sum of squares of the error SSE which is computed in two-way ANOVA as\n",
    "\n",
    "$$SSE=\\sum_{k=1}^{r}{\\sum_{j=1}^{l_s}{\\sum_{i=1}^{l_t}{(x_{ijk} - \\overline{x}_{ij})^2}}},$$\n",
    "\n",
    "where $x_{ijk}$ is the $k$th observation of a total of $r$ observations in level $i$ for factor \"treatment\" and level $j$ for factor \"sex\".\n",
    "\n",
    "Let's again compare the one-way ANOVA on the factor \"treatment\" with the two-way ANOVA on \"treatment\" and \"factor\": "
   ]
  },
  {
   "cell_type": "code",
   "execution_count": 29,
   "metadata": {},
   "outputs": [
    {
     "name": "stdout",
     "output_type": "stream",
     "text": [
      "one-way ANOVA on treatment\n",
      "             sum_sq    df         F    PR(>F)\n",
      "treatment  0.001384   3.0  0.619269  0.606255\n",
      "Residual   0.032770  44.0       NaN       NaN\n",
      "\n",
      "two-way ANOVA on treatment and sex\n",
      "             sum_sq    df           F        PR(>F)\n",
      "treatment  0.001384   3.0    5.816689  1.986050e-03\n",
      "sex        0.029360   1.0  370.284849  9.454352e-23\n",
      "Residual   0.003410  43.0         NaN           NaN\n"
     ]
    }
   ],
   "source": [
    "print \"one-way ANOVA on treatment\"\n",
    "mod = ols('expression_level ~ treatment',\n",
    "                data=df2).fit()\n",
    "                \n",
    "aov_table = sm.stats.anova_lm(mod, typ=2)\n",
    "print aov_table\n",
    "\n",
    "print\n",
    "print \"two-way ANOVA on treatment and sex\"\n",
    "mod = ols('expression_level ~ treatment + sex',\n",
    "                data=df2).fit()\n",
    "                \n",
    "aov_table = sm.stats.anova_lm(mod, typ=2)\n",
    "print aov_table"
   ]
  },
  {
   "cell_type": "markdown",
   "metadata": {},
   "source": [
    "We can see that $SS_{treatment}$ is the same in both tests. However $SSE$ (the residuals) is much smaller for the two-way ANOVA F-statistic. This is because in the computation of $SSE$ the variation caused by both factors is taken into account. Since $SSE$ is in the denominator of the F-statistic, a smaller $SSE$ means a larger F-statistic which in turn implies a smaller p-value.\n",
    "\n",
    "As in two-way ANOVA there are two factors we have to take into account that there could be an **interaction** between these factors. If this is the case then we should be very careful with the conclusions we make about the individual factors. In two-way ANOVA with interaction the total variance is partitoned as \n",
    "\n",
    "$$TSS=SS_{treatment}+SS_{sex}+SS_{treatment:sex}+SSE,$$\n",
    "\n",
    "where $SS_{treatment:sex}$ is the variance caused by the (potential) interaction of the two factors \"treatment\" and \"sex\". \n",
    "\n",
    "Let's check for an interaction effect in our dataset. We can do this in Python as follows:"
   ]
  },
  {
   "cell_type": "code",
   "execution_count": 30,
   "metadata": {},
   "outputs": [
    {
     "name": "stdout",
     "output_type": "stream",
     "text": [
      "two-way ANOVA with interaction term:\n",
      "                 sum_sq    df           F        PR(>F)\n",
      "treatment      0.001384   3.0    5.660833  2.495141e-03\n",
      "sex            0.029360   1.0  360.363196  1.294282e-21\n",
      "treatment:sex  0.000151   3.0    0.615943  6.087133e-01\n",
      "Residual       0.003259  40.0         NaN           NaN\n"
     ]
    }
   ],
   "source": [
    "print \"two-way ANOVA with interaction term:\"\n",
    "mod = ols('expression_level ~ treatment * sex',\n",
    "                data=df2).fit()\n",
    "                \n",
    "aov_table = sm.stats.anova_lm(mod, typ=2)\n",
    "print aov_table"
   ]
  },
  {
   "cell_type": "markdown",
   "metadata": {},
   "source": [
    "At $\\alpha=0.01$ we conclude that there is no significant interation between the two factors in our dataset.\n",
    "\n",
    "Now consider the following example where there is a clear interaction. The factor \"treatment\" has just $l_t=2$ levels: \"T1\" and \"T2\" and we have again a factor \"sex\" with also $l_s=2$ levels: \"female\" and \"male\". For level \"T1\" the mean female mouse gene expression level is higher than for males. However, for level \"T2\" the mean female mouse gene expression level is lower than for males. Also, there is a difference between the means of levels \"T1\" and \"T2\" as well as there is a difference between the means of levels \"male\" and \"female\": "
   ]
  },
  {
   "cell_type": "code",
   "execution_count": 31,
   "metadata": {},
   "outputs": [
    {
     "data": {
      "application/pdf": "[encoded data removed]",
      "image/png": "[encoded data removed]",
      "text/plain": [
       "<matplotlib.figure.Figure at 0xda74630>"
      ]
     },
     "metadata": {},
     "output_type": "display_data"
    }
   ],
   "source": [
    "mu_T1_male = 0.26\n",
    "mu_T1_female = 0.28\n",
    "mu_T2_male = 0.30\n",
    "mu_T2_female = 0.26\n",
    "sigma = 0.008 #equal variance is assumed\n",
    "\n",
    "r = 12\n",
    "\n",
    "group_T1_male = np.random.normal(size=r,loc=mu_T1_male,scale=sigma)\n",
    "group_T1_female = np.random.normal(size=r,loc=mu_T1_female,scale=sigma)\n",
    "group_T2_male = np.random.normal(size=r,loc=mu_T2_male,scale=sigma)\n",
    "group_T2_female = np.random.normal(size=r,loc=mu_T2_female,scale=sigma)\n",
    "\n",
    "df3 = pd.DataFrame()\n",
    "df3[\"treatment\"] = [\"T1\"]*2*r + [\"T2\"]*2*r\n",
    "df3[\"sex\"] = [\"male\"]*r + [\"female\"]*r + [\"male\"]*r + [\"female\"]*r\n",
    "df3[\"expression_level\"] = np.concatenate((group_T1_male,group_T1_female,group_T2_male,group_T2_female))\n",
    "\n",
    "plt.figure(figsize=(16,6))\n",
    "plt.subplot(1,2,1)\n",
    "sns.boxplot(x=\"treatment\",y=\"expression_level\",hue=\"sex\",data=df3)\n",
    "plt.subplot(1,2,2)\n",
    "sns.boxplot(x=\"sex\",y=\"expression_level\",hue=\"treatment\",data=df3)\n",
    "plt.show()"
   ]
  },
  {
   "cell_type": "markdown",
   "metadata": {},
   "source": [
    "First we compute the one-way ANOVA for each factor:"
   ]
  },
  {
   "cell_type": "code",
   "execution_count": 32,
   "metadata": {},
   "outputs": [
    {
     "name": "stdout",
     "output_type": "stream",
     "text": [
      "one-way ANOVA for treatment:\n",
      "             sum_sq    df         F    PR(>F)\n",
      "treatment  0.000681   1.0  1.830809  0.182645\n",
      "Residual   0.017122  46.0       NaN       NaN\n",
      "\n",
      "one-way ANOVA for sex:\n",
      "            sum_sq    df         F    PR(>F)\n",
      "sex       0.001525   1.0  4.309095  0.043526\n",
      "Residual  0.016278  46.0       NaN       NaN\n"
     ]
    }
   ],
   "source": [
    "print \"one-way ANOVA for treatment:\"\n",
    "mod = ols('expression_level ~ treatment',\n",
    "                data=df3).fit()\n",
    "                \n",
    "aov_table = sm.stats.anova_lm(mod, typ=2)\n",
    "print aov_table\n",
    "\n",
    "print\n",
    "print \"one-way ANOVA for sex:\"\n",
    "mod = ols('expression_level ~ sex',\n",
    "                data=df3).fit()\n",
    "                \n",
    "aov_table = sm.stats.anova_lm(mod, typ=2)\n",
    "print aov_table"
   ]
  },
  {
   "cell_type": "markdown",
   "metadata": {},
   "source": [
    "At $\\alpha=0.01$ both null hypothesis are accepted. Now we perform a two-way ANOVA without taking the interaction into account:"
   ]
  },
  {
   "cell_type": "code",
   "execution_count": 33,
   "metadata": {},
   "outputs": [
    {
     "name": "stdout",
     "output_type": "stream",
     "text": [
      "two-way ANOVA without interaction term:\n",
      "             sum_sq    df         F    PR(>F)\n",
      "treatment  0.000681   1.0  1.966113  0.167722\n",
      "sex        0.001525   1.0  4.399597  0.041596\n",
      "Residual   0.015597  45.0       NaN       NaN\n"
     ]
    }
   ],
   "source": [
    "print \"two-way ANOVA without interaction term:\"\n",
    "mod = ols('expression_level ~ treatment + sex',\n",
    "                data=df3).fit()\n",
    "                \n",
    "aov_table = sm.stats.anova_lm(mod, typ=2)\n",
    "print aov_table"
   ]
  },
  {
   "cell_type": "markdown",
   "metadata": {},
   "source": [
    "Again both null hypothesis are accepted. This is incorrect as we know that both \"treatment\" and \"sex\" have a significant effect on the gene expression level. The problem is that both factors even each other out as we will see in the next plots. The two-way ANOVA that takes an interaction between the factors into account gives:"
   ]
  },
  {
   "cell_type": "code",
   "execution_count": 34,
   "metadata": {},
   "outputs": [
    {
     "name": "stdout",
     "output_type": "stream",
     "text": [
      "two-way ANOVA with interaction term:\n",
      "                 sum_sq    df           F        PR(>F)\n",
      "treatment      0.000681   1.0   11.335033  1.587863e-03\n",
      "sex            0.001525   1.0   25.364546  8.551073e-06\n",
      "treatment:sex  0.012952   1.0  215.433911  1.457354e-18\n",
      "Residual       0.002645  44.0         NaN           NaN\n"
     ]
    }
   ],
   "source": [
    "print \"two-way ANOVA with interaction term:\"\n",
    "mod = ols('expression_level ~ treatment * sex',\n",
    "                data=df3).fit()\n",
    "                \n",
    "aov_table = sm.stats.anova_lm(mod, typ=2)\n",
    "print aov_table"
   ]
  },
  {
   "cell_type": "markdown",
   "metadata": {},
   "source": [
    "At $\\alpha=0.01$ we see that this time both null hypothesis are correctly rejected. We also see a third p-value (for the interaction \"treatment:sex\" that shows that there is indeed a significant interaction between the factors.\n",
    "\n",
    "To better illustrate the effect of the interaction we can plot the distribution of expression levels between the levels for each factor:"
   ]
  },
  {
   "cell_type": "code",
   "execution_count": 35,
   "metadata": {},
   "outputs": [
    {
     "data": {
      "application/pdf": "[encoded data removed]",
      "image/png": "[encoded data removed]",
      "text/plain": [
       "<matplotlib.figure.Figure at 0xff92ac8>"
      ]
     },
     "metadata": {},
     "output_type": "display_data"
    }
   ],
   "source": [
    "#because of interaction no difference is observed\n",
    "plt.figure(figsize=(16,6))\n",
    "plt.subplot(1,2,1)\n",
    "sns.boxplot(x=\"treatment\",y=\"expression_level\",data=df3)\n",
    "plt.subplot(1,2,2)\n",
    "sns.boxplot(x=\"sex\",y=\"expression_level\",data=df3)\n",
    "plt.show()"
   ]
  },
  {
   "cell_type": "markdown",
   "metadata": {},
   "source": [
    "Notice how because of the interaction we observe no clear difference between the means of the levels in a factor. \n",
    "\n",
    "### Power analysis\n",
    "\n",
    "We have seen that the power of a hypothesis test is defined as the probability of correctly rejecting the null hypothesis in case the alternative hypothesis is true. In power analysis the power is defined as $1-\\beta$ where $\\beta$ is the probability of accepting the null hypothesis even though the alternative hypothesis is true.\n",
    "\n",
    "When preparing a statistical analysis it is good practice to estimate the sample size required to find the effect of interest if it exists. The \"effect of interest\" is known as the **effect size**. \n",
    "\n",
    "Suppose we want to test if there is a difference between the mean expression level of two genes (geneA and geneB). We want to design a statistical experiment that is able to detect (if it exists) a minimum 0.02 in expression difference between the expression level of both genes. This \"minimum 0.02 difference\" is the **minimum** effect size we want to be able to detect (again, if it exists). \n",
    "\n",
    "Let's illustrate this. We know that the power of a two sample t-test (and all other hypothesis tests) depends on the variance of the (normal) population from which the sample(s) are drawn. We fix the sample size $n$, the effect size (noted as variable  `diff` in the code below) and the significance level $\\alpha$. Next we vary the variance (or standard deviation $\\sigma$) of the population from which the samples are drawn and compute the power of a two sample t-test using 1000 samples drawn from each population:    "
   ]
  },
  {
   "cell_type": "code",
   "execution_count": 36,
   "metadata": {},
   "outputs": [
    {
     "name": "stdout",
     "output_type": "stream",
     "text": [
      "Power for sample size 9, mean difference 0.020000 and population sigma 0.010000: 0.883000\n",
      "Power for sample size 9, mean difference 0.020000 and population sigma 0.015000: 0.500000\n",
      "Power for sample size 9, mean difference 0.020000 and population sigma 0.020000: 0.225000\n",
      "Power for sample size 9, mean difference 0.020000 and population sigma 0.025000: 0.149000\n",
      "Power for sample size 9, mean difference 0.020000 and population sigma 0.030000: 0.091000\n",
      "Power for sample size 9, mean difference 0.020000 and population sigma 0.040000: 0.060000\n",
      "Power for sample size 9, mean difference 0.020000 and population sigma 0.050000: 0.028000\n"
     ]
    }
   ],
   "source": [
    "num_samples = 1000\n",
    "alpha = 0.01\n",
    "mu_geneA = 0.26\n",
    "\n",
    "#different population variances\n",
    "n = 9\n",
    "diff = 0.02\n",
    "mu_geneB = mu_geneA + diff\n",
    "for sigma in [0.01,0.015,0.02,0.025,0.03,0.04,0.05]:\n",
    "    power = 0\n",
    "    for i in range(num_samples):\n",
    "        geneA = np.random.normal(size=n,loc=mu_geneA,scale=sigma)\n",
    "        geneB = np.random.normal(size=n,loc=mu_geneB,scale=sigma)\n",
    "        pvalue = stats.ttest_ind(geneA,geneB).pvalue\n",
    "        if pvalue < alpha:\n",
    "            power += 1\n",
    "    print \"Power for sample size %i, mean difference %f and population sigma %f: %f\" % (n,diff,sigma,power/(float(num_samples)))"
   ]
  },
  {
   "cell_type": "markdown",
   "metadata": {},
   "source": [
    "We see that the power of the two sample t-test deceases as the variance of the population increases. We also know that the power of a two sample t-test (and all other hypothesis tests) depends on the sample size $n$. We fix the population variance, the effect size and the significance level $\\alpha$. Next we vary the samples size $n$ and compute the power of a two sample t-test using 1000 samples drawn for different values for $n$:   "
   ]
  },
  {
   "cell_type": "code",
   "execution_count": 37,
   "metadata": {},
   "outputs": [
    {
     "name": "stdout",
     "output_type": "stream",
     "text": [
      "Power for sample size 2, mean difference 0.020000 and population sigma 0.010000: 0.050000\n",
      "Power for sample size 3, mean difference 0.020000 and population sigma 0.010000: 0.168000\n",
      "Power for sample size 4, mean difference 0.020000 and population sigma 0.010000: 0.330000\n",
      "Power for sample size 5, mean difference 0.020000 and population sigma 0.010000: 0.480000\n",
      "Power for sample size 6, mean difference 0.020000 and population sigma 0.010000: 0.630000\n",
      "Power for sample size 7, mean difference 0.020000 and population sigma 0.010000: 0.744000\n",
      "Power for sample size 8, mean difference 0.020000 and population sigma 0.010000: 0.836000\n",
      "Power for sample size 9, mean difference 0.020000 and population sigma 0.010000: 0.889000\n",
      "Power for sample size 10, mean difference 0.020000 and population sigma 0.010000: 0.923000\n",
      "Power for sample size 11, mean difference 0.020000 and population sigma 0.010000: 0.949000\n",
      "Power for sample size 12, mean difference 0.020000 and population sigma 0.010000: 0.967000\n",
      "Power for sample size 13, mean difference 0.020000 and population sigma 0.010000: 0.978000\n",
      "Power for sample size 14, mean difference 0.020000 and population sigma 0.010000: 0.991000\n"
     ]
    }
   ],
   "source": [
    "#different sample sizes\n",
    "sigma = 0.01\n",
    "diff = 0.02\n",
    "mu_geneB = mu_geneA + diff\n",
    "for n in range(2,15):\n",
    "    power = 0\n",
    "    for i in range(num_samples):\n",
    "        geneA = np.random.normal(size=n,loc=mu_geneA,scale=sigma)\n",
    "        geneB = np.random.normal(size=n,loc=mu_geneB,scale=sigma)\n",
    "        pvalue = stats.ttest_ind(geneA,geneB).pvalue\n",
    "        if pvalue < alpha:\n",
    "            power += 1\n",
    "    print \"Power for sample size %i, mean difference %f and population sigma %f: %f\" % (n,diff,sigma,power/(float(num_samples)))"
   ]
  },
  {
   "cell_type": "markdown",
   "metadata": {},
   "source": [
    "We see that the power of the two sample t-test increases as the sample size increases. Finally the power of a two sample t-test (and all other hypothesis tests) also depends on the minimum effect size we hope to detect if it exists. We fix the population variance, the sample size and the significance level $\\alpha$. Next we vary the effect size (variable \"diff\" in the code below) and compute the power of a two sample t-test using 1000 samples drawn for different effect sizes: "
   ]
  },
  {
   "cell_type": "code",
   "execution_count": 38,
   "metadata": {},
   "outputs": [
    {
     "name": "stdout",
     "output_type": "stream",
     "text": [
      "Power for sample size 9, mean difference 0.001000 and population sigma 0.010000: 0.009000\n",
      "Power for sample size 9, mean difference 0.005000 and population sigma 0.010000: 0.054000\n",
      "Power for sample size 9, mean difference 0.010000 and population sigma 0.010000: 0.253000\n",
      "Power for sample size 9, mean difference 0.020000 and population sigma 0.010000: 0.880000\n",
      "Power for sample size 9, mean difference 0.030000 and population sigma 0.010000: 1.000000\n",
      "Power for sample size 9, mean difference 0.040000 and population sigma 0.010000: 1.000000\n"
     ]
    }
   ],
   "source": [
    "#different effect sizes\n",
    "sigma = 0.01\n",
    "n= 9\n",
    "for diff in [0.001,0.005,0.01,0.02,0.03,0.04]:\n",
    "    mu_geneB = mu_geneA + diff\n",
    "    power = 0\n",
    "    for i in range(num_samples):\n",
    "        geneA = np.random.normal(size=n,loc=mu_geneA,scale=sigma)\n",
    "        geneB = np.random.normal(size=n,loc=mu_geneB,scale=sigma)\n",
    "        pvalue = stats.ttest_ind(geneA,geneB).pvalue\n",
    "        if pvalue < alpha:\n",
    "            power += 1\n",
    "    print \"Power for sample size %i, mean difference %f and population sigma %f: %f\" % (n,diff,sigma,power/(float(num_samples)))"
   ]
  },
  {
   "cell_type": "markdown",
   "metadata": {},
   "source": [
    "We see that the power of the two sample t-test increases as the effect size increases, which makes sense.\n",
    "\n",
    "So the power of a hypothesis test depends on these four numbers: \n",
    "\n",
    "- the effect size\n",
    "- the population variance\n",
    "- the sample size\n",
    "- the significance level\n",
    "\n",
    "This means that when we fix the expected power of a test, the minimum effect size, the population variance and the significance level we can compute the minimum sample size $n$ required to achieve this expected power.\n",
    "\n",
    "In Python we can compute the minimum sample size required for a certain minimum statistical power as follows:"
   ]
  },
  {
   "cell_type": "code",
   "execution_count": 39,
   "metadata": {},
   "outputs": [
    {
     "name": "stdout",
     "output_type": "stream",
     "text": [
      "Minimum sample size required for power = 0.990000: 13.805334\n",
      "Minimum sample size required for power = 0.950000: 10.710971\n",
      "Minimum sample size required for power = 0.900000: 9.251530\n",
      "Minimum sample size required for power = 0.800000: 7.660540\n"
     ]
    }
   ],
   "source": [
    "import statsmodels.stats.power as smp\n",
    "\n",
    "sigma = 0.01\n",
    "diff = 0.02\n",
    "for power in [0.99,0.95,0.9,0.8]:    \n",
    "    print \"Minimum sample size required for power = %f: %f\" % (power,smp.TTestIndPower().solve_power(diff/sigma, power=power, alpha=alpha, alternative='two-sided'))"
   ]
  },
  {
   "cell_type": "markdown",
   "metadata": {},
   "source": [
    "In this code the population variance is taken into account by dividing the effect size (variable `diff`) by the standard deviation.\n",
    "\n",
    "According to the power analysis, if we expect a minimum power of 95% then we need to draw at least $n=10.710971=11$ observations in each sample. We can verify this with the code we used above for varying the sample size and computing the power:"
   ]
  },
  {
   "cell_type": "code",
   "execution_count": 40,
   "metadata": {},
   "outputs": [
    {
     "name": "stdout",
     "output_type": "stream",
     "text": [
      "Power for sample size 11, mean difference 0.020000 and population sigma 0.010000: 0.959000\n"
     ]
    }
   ],
   "source": [
    "#different sample sizes\n",
    "mu_geneB = mu_geneA + diff\n",
    "\n",
    "n = 11\n",
    "power = 0\n",
    "for i in range(num_samples):\n",
    "    geneA = np.random.normal(size=n,loc=mu_geneA,scale=sigma)\n",
    "    geneB = np.random.normal(size=n,loc=mu_geneB,scale=sigma)\n",
    "    pvalue = stats.ttest_ind(geneA,geneB).pvalue\n",
    "    if pvalue < alpha:\n",
    "        power += 1\n",
    "print \"Power for sample size %i, mean difference %f and population sigma %f: %f\" % (n,diff,sigma,power/(float(num_samples)))"
   ]
  },
  {
   "cell_type": "markdown",
   "metadata": {},
   "source": [
    "We can see that our estimations are indeed correct. \n",
    "\n",
    "One problem with a power analysis is that the variance of the population needs to be known, while in most cases this information is not available. Typical practice is to find an estimate for the variance in the scientific literature or perform a \"pilot\" experiment with small sample size to estimate the population variance from this small sample.\n",
    "\n",
    "In the design of a statistical study it is important to consider the trade-off between the power of the hypothesis test and the sample size of the study. We can see this by computing the power of our two sample t-test for different sample sizes:"
   ]
  },
  {
   "cell_type": "code",
   "execution_count": 41,
   "metadata": {},
   "outputs": [
    {
     "name": "stdout",
     "output_type": "stream",
     "text": [
      "Power for sample size 2: 0.048628\n",
      "Power for sample size 3: 0.156856\n",
      "Power for sample size 4: 0.313033\n",
      "Power for sample size 5: 0.476935\n",
      "Power for sample size 6: 0.622611\n",
      "Power for sample size 7: 0.739367\n",
      "Power for sample size 8: 0.826419\n",
      "Power for sample size 9: 0.887894\n",
      "Power for sample size 10: 0.929485\n",
      "Power for sample size 11: 0.956656\n",
      "Power for sample size 12: 0.973892\n",
      "Power for sample size 13: 0.984556\n",
      "Power for sample size 14: 0.991011\n",
      "Power for sample size 15: 0.994844\n",
      "Power for sample size 16: 0.997082\n",
      "Power for sample size 17: 0.998368\n",
      "Power for sample size 18: 0.999098\n",
      "Power for sample size 19: 0.999506\n",
      "Power for sample size 20: 0.999732\n",
      "Power for sample size 21: 0.999856\n",
      "Power for sample size 22: 0.999923\n",
      "Power for sample size 23: 0.999959\n"
     ]
    }
   ],
   "source": [
    "df = []\n",
    "for n in range(2,24):\n",
    "    power = smp.TTestIndPower().solve_power(diff/sigma, nobs1=n, alpha=alpha, alternative='two-sided')\n",
    "    print \"Power for sample size %i: %f\" % (n,power)\n",
    "    df.append([n,power])\n",
    "df = pd.DataFrame(df,columns=[\"sample size\",\"power\"])"
   ]
  },
  {
   "cell_type": "markdown",
   "metadata": {},
   "source": [
    "If we plot the power against the sample size we get:"
   ]
  },
  {
   "cell_type": "code",
   "execution_count": 42,
   "metadata": {},
   "outputs": [
    {
     "data": {
      "application/pdf": "[encoded data removed]",
      "image/png": "[encoded data removed]",
      "text/plain": [
       "<matplotlib.figure.Figure at 0xfe33438>"
      ]
     },
     "metadata": {},
     "output_type": "display_data"
    }
   ],
   "source": [
    "sns.lmplot(x=\"sample size\",y=\"power\",data=df,fit_reg=False)\n",
    "plt.show()"
   ]
  },
  {
   "cell_type": "markdown",
   "metadata": {},
   "source": [
    "This plot shows how for small sample sizes adding one more sample significantly increases the power of our test. From the moment we have ten observations in each level we see that the added power decreases exponentially."
   ]
  }
 ],
 "metadata": {
  "kernelspec": {
   "display_name": "Python 2",
   "language": "python",
   "name": "python2"
  },
  "language_info": {
   "codemirror_mode": {
    "name": "ipython",
    "version": 2
   },
   "file_extension": ".py",
   "mimetype": "text/x-python",
   "name": "python",
   "nbconvert_exporter": "python",
   "pygments_lexer": "ipython2",
   "version": "2.7.14"
  }
 },
 "nbformat": 4,
 "nbformat_minor": 2
}
