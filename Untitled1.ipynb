{
  "nbformat": 4,
  "nbformat_minor": 0,
  "metadata": {
    "colab": {
      "name": "Untitled1.ipynb",
      "provenance": [],
      "mount_file_id": "1FIUFt4QDfOwDn8ztWzBk7pBHqtJYcNi7",
      "authorship_tag": "ABX9TyNydOzSQo/jmskztwPjQ4Qw",
      "include_colab_link": true
    },
    "kernelspec": {
      "name": "python3",
      "display_name": "Python 3"
    },
    "accelerator": "GPU"
  },
  "cells": [
    {
      "cell_type": "markdown",
      "metadata": {
        "id": "view-in-github",
        "colab_type": "text"
      },
      "source": [
        "<a href=\"https://colab.research.google.com/github/sdgroeve/D012513/blob/master/Untitled1.ipynb\" target=\"_parent\"><img src=\"https://colab.research.google.com/assets/colab-badge.svg\" alt=\"Open In Colab\"/></a>"
      ]
    },
    {
      "cell_type": "code",
      "metadata": {
        "id": "CqMV1nGVMLfG",
        "colab_type": "code",
        "colab": {
          "base_uri": "https://localhost:8080/",
          "height": 670
        },
        "outputId": "148c9181-dc91-408d-859b-5f59a707e4b1"
      },
      "source": [
        "!pip install tape_proteins"
      ],
      "execution_count": 1,
      "outputs": [
        {
          "output_type": "stream",
          "text": [
            "Collecting tape_proteins\n",
            "\u001b[?25l  Downloading https://files.pythonhosted.org/packages/0e/f6/2daecc2b10948b91d1569441652d4b775953c7803f957862061c69eefdf0/tape_proteins-0.3.tar.gz (56kB)\n",
            "\r\u001b[K     |█████▉                          | 10kB 23.2MB/s eta 0:00:01\r\u001b[K     |███████████▋                    | 20kB 30.1MB/s eta 0:00:01\r\u001b[K     |█████████████████▍              | 30kB 32.6MB/s eta 0:00:01\r\u001b[K     |███████████████████████▏        | 40kB 32.4MB/s eta 0:00:01\r\u001b[K     |█████████████████████████████   | 51kB 19.8MB/s eta 0:00:01\r\u001b[K     |████████████████████████████████| 61kB 7.8MB/s \n",
            "\u001b[?25hRequirement already satisfied: torch>=1.0 in /usr/local/lib/python3.6/dist-packages (from tape_proteins) (1.5.0+cu101)\n",
            "Requirement already satisfied: tqdm in /usr/local/lib/python3.6/dist-packages (from tape_proteins) (4.38.0)\n",
            "Collecting tensorboardX\n",
            "\u001b[?25l  Downloading https://files.pythonhosted.org/packages/35/f1/5843425495765c8c2dd0784a851a93ef204d314fc87bcc2bbb9f662a3ad1/tensorboardX-2.0-py2.py3-none-any.whl (195kB)\n",
            "\u001b[K     |████████████████████████████████| 204kB 15.1MB/s \n",
            "\u001b[?25hRequirement already satisfied: scipy in /usr/local/lib/python3.6/dist-packages (from tape_proteins) (1.4.1)\n",
            "Requirement already satisfied: lmdb in /usr/local/lib/python3.6/dist-packages (from tape_proteins) (0.98)\n",
            "Requirement already satisfied: boto3 in /usr/local/lib/python3.6/dist-packages (from tape_proteins) (1.12.47)\n",
            "Requirement already satisfied: requests in /usr/local/lib/python3.6/dist-packages (from tape_proteins) (2.23.0)\n",
            "Collecting biopython\n",
            "\u001b[?25l  Downloading https://files.pythonhosted.org/packages/83/3d/e0c8a993dbea1136be90c31345aefc5babdd5046cd52f81c18fc3fdad865/biopython-1.76-cp36-cp36m-manylinux1_x86_64.whl (2.3MB)\n",
            "\u001b[K     |████████████████████████████████| 2.3MB 37.4MB/s \n",
            "\u001b[?25hRequirement already satisfied: future in /usr/local/lib/python3.6/dist-packages (from torch>=1.0->tape_proteins) (0.16.0)\n",
            "Requirement already satisfied: numpy in /usr/local/lib/python3.6/dist-packages (from torch>=1.0->tape_proteins) (1.18.3)\n",
            "Requirement already satisfied: protobuf>=3.8.0 in /usr/local/lib/python3.6/dist-packages (from tensorboardX->tape_proteins) (3.10.0)\n",
            "Requirement already satisfied: six in /usr/local/lib/python3.6/dist-packages (from tensorboardX->tape_proteins) (1.12.0)\n",
            "Requirement already satisfied: jmespath<1.0.0,>=0.7.1 in /usr/local/lib/python3.6/dist-packages (from boto3->tape_proteins) (0.9.5)\n",
            "Requirement already satisfied: botocore<1.16.0,>=1.15.47 in /usr/local/lib/python3.6/dist-packages (from boto3->tape_proteins) (1.15.47)\n",
            "Requirement already satisfied: s3transfer<0.4.0,>=0.3.0 in /usr/local/lib/python3.6/dist-packages (from boto3->tape_proteins) (0.3.3)\n",
            "Requirement already satisfied: idna<3,>=2.5 in /usr/local/lib/python3.6/dist-packages (from requests->tape_proteins) (2.9)\n",
            "Requirement already satisfied: urllib3!=1.25.0,!=1.25.1,<1.26,>=1.21.1 in /usr/local/lib/python3.6/dist-packages (from requests->tape_proteins) (1.24.3)\n",
            "Requirement already satisfied: certifi>=2017.4.17 in /usr/local/lib/python3.6/dist-packages (from requests->tape_proteins) (2020.4.5.1)\n",
            "Requirement already satisfied: chardet<4,>=3.0.2 in /usr/local/lib/python3.6/dist-packages (from requests->tape_proteins) (3.0.4)\n",
            "Requirement already satisfied: setuptools in /usr/local/lib/python3.6/dist-packages (from protobuf>=3.8.0->tensorboardX->tape_proteins) (46.1.3)\n",
            "Requirement already satisfied: python-dateutil<3.0.0,>=2.1 in /usr/local/lib/python3.6/dist-packages (from botocore<1.16.0,>=1.15.47->boto3->tape_proteins) (2.8.1)\n",
            "Requirement already satisfied: docutils<0.16,>=0.10 in /usr/local/lib/python3.6/dist-packages (from botocore<1.16.0,>=1.15.47->boto3->tape_proteins) (0.15.2)\n",
            "Building wheels for collected packages: tape-proteins\n",
            "  Building wheel for tape-proteins (setup.py) ... \u001b[?25l\u001b[?25hdone\n",
            "  Created wheel for tape-proteins: filename=tape_proteins-0.3-cp36-none-any.whl size=61949 sha256=6b5b0cbb12af6cd4eb48ab8c57c724697c6d16248e52a4123fe2d8fd344a2d4f\n",
            "  Stored in directory: /root/.cache/pip/wheels/7b/fb/c2/d00a463244bc5c122bff3f5cd8a258ca43562d990c9acd95f9\n",
            "Successfully built tape-proteins\n",
            "Installing collected packages: tensorboardX, biopython, tape-proteins\n",
            "Successfully installed biopython-1.76 tape-proteins-0.3 tensorboardX-2.0\n"
          ],
          "name": "stdout"
        }
      ]
    },
    {
      "cell_type": "code",
      "metadata": {
        "id": "o3jciVE-MX-2",
        "colab_type": "code",
        "colab": {
          "base_uri": "https://localhost:8080/",
          "height": 52
        },
        "outputId": "0794a0d9-50bc-46f4-8c94-5595dd1fcc15"
      },
      "source": [
        "!unzip secrify.zip"
      ],
      "execution_count": 2,
      "outputs": [
        {
          "output_type": "stream",
          "text": [
            "Archive:  secrify.zip\n",
            "  inflating: secrify.fasta           \n"
          ],
          "name": "stdout"
        }
      ]
    },
    {
      "cell_type": "code",
      "metadata": {
        "id": "F-VZN78tNbK_",
        "colab_type": "code",
        "colab": {}
      },
      "source": [
        "!head -n 10000 secrify.fasta > small.fasta"
      ],
      "execution_count": 0,
      "outputs": []
    },
    {
      "cell_type": "code",
      "metadata": {
        "id": "FfGOgK25fNGO",
        "colab_type": "code",
        "colab": {
          "base_uri": "https://localhost:8080/",
          "height": 158
        },
        "outputId": "bc3abe95-316b-4a7c-f3c7-897c4acd0c63"
      },
      "source": [
        "!tape-embed"
      ],
      "execution_count": 13,
      "outputs": [
        {
          "output_type": "stream",
          "text": [
            "usage: tape-embed [-h] [--model_config_file MODEL_CONFIG_FILE]\n",
            "                  [--vocab_file VOCAB_FILE] [--output_dir OUTPUT_DIR]\n",
            "                  [--no_cuda] [--seed SEED] [--local_rank LOCAL_RANK]\n",
            "                  [--tokenizer {iupac,unirep}] [--num_workers NUM_WORKERS]\n",
            "                  [--log_level {DEBUG,INFO,WARN,WARNING,ERROR,10,20,30,40}]\n",
            "                  [--debug] [--batch_size BATCH_SIZE] [--full_sequence_embed]\n",
            "                  model_type data_file out_file from_pretrained\n",
            "tape-embed: error: the following arguments are required: model_type, data_file, out_file, from_pretrained\n"
          ],
          "name": "stdout"
        }
      ]
    },
    {
      "cell_type": "code",
      "metadata": {
        "id": "-GS6HdoQMuyb",
        "colab_type": "code",
        "colab": {
          "base_uri": "https://localhost:8080/",
          "height": 424
        },
        "outputId": "7ba803ae-4058-474e-ebd6-628c86bc162b"
      },
      "source": [
        "!tape-embed unirep small.fasta small.npz babbler-1900 --tokenizer unirep --log_level DEBUG --batch_size 10"
      ],
      "execution_count": 10,
      "outputs": [
        {
          "output_type": "stream",
          "text": [
            "20/05/01 13:23:37 - INFO - tape.training -   device: cuda n_gpu: 1\n",
            "20/05/01 13:23:37 - DEBUG - urllib3.connectionpool -   Starting new HTTPS connection (1): s3.amazonaws.com:443\n",
            "20/05/01 13:23:37 - DEBUG - urllib3.connectionpool -   https://s3.amazonaws.com:443 \"HEAD /proteindata/pytorch-models/unirep-base-config.json HTTP/1.1\" 200 0\n",
            "20/05/01 13:23:37 - INFO - tape.models.modeling_utils -   loading configuration file https://s3.amazonaws.com/proteindata/pytorch-models/unirep-base-config.json from cache at /root/.cache/torch/protein_models/f61813e6c3d93a4e696443982bbca4bfffa259c4abe29dfe680566d72861f512.903dc94e94ead9c24081473a281fe33b8f1f5df11db92cdc4b97bf4af5a50e10\n",
            "20/05/01 13:23:37 - INFO - tape.models.modeling_utils -   Model config {\n",
            "  \"finetuning_task\": null,\n",
            "  \"hidden_dropout_prob\": 0.1,\n",
            "  \"hidden_size\": 1900,\n",
            "  \"initializer_range\": 0.02,\n",
            "  \"input_size\": 10,\n",
            "  \"layer_norm_eps\": 1e-12,\n",
            "  \"num_labels\": -1,\n",
            "  \"output_attentions\": false,\n",
            "  \"output_hidden_states\": false,\n",
            "  \"torchscript\": false,\n",
            "  \"vocab_size\": 26\n",
            "}\n",
            "\n",
            "20/05/01 13:23:37 - DEBUG - urllib3.connectionpool -   Starting new HTTPS connection (1): s3.amazonaws.com:443\n",
            "20/05/01 13:23:37 - DEBUG - urllib3.connectionpool -   https://s3.amazonaws.com:443 \"HEAD /proteindata/pytorch-models/unirep-base-pytorch_model.bin HTTP/1.1\" 200 0\n",
            "20/05/01 13:23:37 - INFO - tape.models.modeling_utils -   loading weights file https://s3.amazonaws.com/proteindata/pytorch-models/unirep-base-pytorch_model.bin from cache at /root/.cache/torch/protein_models/c4e859d20eeec8246a023a3b61a22eecf0bafea9f6e26fe815c9320e039231e4.6dc08f657c0e8f3184b480dd93de0799b3b02326b0b724342cbc4197755bd37b\n",
            "100% 500/500 [02:46<00:00,  3.01it/s]\n"
          ],
          "name": "stdout"
        }
      ]
    },
    {
      "cell_type": "code",
      "metadata": {
        "id": "zsOP69oAM6-A",
        "colab_type": "code",
        "colab": {
          "base_uri": "https://localhost:8080/",
          "height": 52
        },
        "outputId": "66387832-e46d-4c37-ec40-15f7da6212bd"
      },
      "source": [
        "!ls -alh small*"
      ],
      "execution_count": 12,
      "outputs": [
        {
          "output_type": "stream",
          "text": [
            "-rw-r--r-- 1 root root 480K May  1 13:23 small.fasta\n",
            "-rw-r--r-- 1 root root 112M May  1 13:26 small.npz\n"
          ],
          "name": "stdout"
        }
      ]
    },
    {
      "cell_type": "code",
      "metadata": {
        "id": "R6rBOWHMZn0Y",
        "colab_type": "code",
        "colab": {}
      },
      "source": [
        ""
      ],
      "execution_count": 0,
      "outputs": []
    }
  ]
}