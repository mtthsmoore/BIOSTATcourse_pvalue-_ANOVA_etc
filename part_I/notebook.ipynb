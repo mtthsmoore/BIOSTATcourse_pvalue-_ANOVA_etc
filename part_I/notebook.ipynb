{
 "cells": [
  {
   "cell_type": "code",
   "execution_count": 16,
   "metadata": {
    "scrolled": true
   },
   "outputs": [
    {
     "data": {
      "text/html": [
       "<link href='http://fonts.googleapis.com/css?family=Alegreya+Sans:100,300,400,500,700,800,900,100italic,300italic,400italic,500italic,700italic,800italic,900italic' rel='stylesheet' type='text/css'>\n",
       "<link href='http://fonts.googleapis.com/css?family=Arvo:400,700,400italic' rel='stylesheet' type='text/css'>\n",
       "<link href='http://fonts.googleapis.com/css?family=PT+Mono' rel='stylesheet' type='text/css'>\n",
       "<link href='http://fonts.googleapis.com/css?family=Shadows+Into+Light' rel='stylesheet' type='text/css'>\n",
       "<link href='http://fonts.googleapis.com/css?family=Philosopher:400,700,400italic,700italic' rel='stylesheet' type='text/css'>\n",
       "<link href='http://fonts.googleapis.com/css?family=Open+Sans' rel='stylesheet' type='text/css'>\n",
       "\n",
       "<style>\n",
       "\n",
       "@font-face {\n",
       "    font-family: \"Computer Modern\";\n",
       "    src: url('http://mirrors.ctan.org/fonts/cm-unicode/fonts/otf/cmunss.otf');\n",
       "}\n",
       "\n",
       "\n",
       "#notebook_panel { /* main background */\n",
       "    background: #888;\n",
       "    color: #f6f6f6;\n",
       "}\n",
       "\n",
       "div.cell { /* set cell width to about 80 chars */\n",
       "}\n",
       "\n",
       "div #notebook { /* centre the content */\n",
       "    background: #fff; /* white background for content */\n",
       "    margin: auto;\n",
       "}\n",
       "\n",
       "#notebook li { /* More space between bullet points */\n",
       "margin-top:0.8em;\n",
       "}\n",
       "\n",
       "/* draw border around running cells */\n",
       "div.cell.border-box-sizing.code_cell.running {\n",
       "    border: 3px solid #111;\n",
       "}\n",
       "\n",
       "/* Put a solid color box around each cell and its output, visually linking them together */\n",
       "div.cell.code_cell {\n",
       "    /*background-color: rgba(171,165,131,0.3); /*\n",
       "    border-radius: 10px; /* rounded borders */\n",
       "    padding: 1em;\n",
       "    /*margin-top: 1em;*/\n",
       "}\n",
       "\n",
       "div.text_cell_render{\n",
       "    font-family: 'Open Sans', Helvetica;\n",
       "    line-height: 140%;\n",
       "    font-size: 105%;\n",
       "    /*margin-top:15px;*/\n",
       "    margin-bottom:8px;\n",
       "    text-align:justify;\n",
       "}\n",
       "\n",
       "/* Formatting for header cells */\n",
       ".text_cell_render h1 {\n",
       "    font-family: 'Open Sans',sans-serif;\n",
       "    font-weight: 700;\n",
       "    font-size: 30pt;\n",
       "    line-height: 100%;\n",
       "    display: block;\n",
       "    margin-bottom: 50px;\n",
       "}\n",
       "\n",
       ".text_cell_render h2 {\n",
       "    font-family: 'Open Sans', serif;\n",
       "    font-weight: 100;\n",
       "    font-size: 24pt;\n",
       "    line-height: 100%;\n",
       "    display: block;\n",
       "    margin-bottom: .3em;\n",
       "}    \n",
       "\n",
       ".text_cell_render h3 {\n",
       "    font-family: 'Open Sans', serif;\n",
       "    font-weight: 100;\n",
       "    font-size: 22pt;\n",
       "    line-height: 100%;\n",
       "    display: block;\n",
       "    margin-bottom: 30px;\n",
       "}\n",
       "\n",
       ".text_cell_render h4 {\n",
       "    font-family: 'Open Sans', serif;\n",
       "}\n",
       "\n",
       ".text_cell_render h5 {\n",
       "    font-family: 'Alegreya Sans', sans-serif;\n",
       "    font-weight: 300;\n",
       "    font-size: 16pt;\n",
       "    color: grey;\n",
       "    font-style: italic;\n",
       "    margin-bottom: .1em;\n",
       "    margin-top: 0.1em;\n",
       "    display: block;\n",
       "}\n",
       "\n",
       ".text_cell_render h6 {\n",
       "    font-family: 'PT Mono', sans-serif;\n",
       "    font-weight: 300;\n",
       "    font-size: 10pt;\n",
       "    color: grey;\n",
       "    margin-bottom: 1px;\n",
       "    margin-top: 1px;\n",
       "}\n",
       "\n",
       ".CodeMirror{\n",
       "        font-family: \"PT Mono\";\n",
       "        font-size: 100%;\n",
       "}\n",
       "\n",
       ".output_area {\n",
       "\tmargin-top:20px;\n",
       "}\n",
       "\n",
       ".output_stderr {\n",
       "\tdisplay:none;\n",
       "\t}\n",
       "\n",
       ".output_subarea {\n",
       "\tdisplay: block;\n",
       "    margin: 0 auto;\n",
       "}\n",
       "\n",
       ".output_png img {\n",
       "    display: block;\n",
       "    margin-left: auto;\n",
       "    margin-right: auto;\n",
       "}\n",
       "\n",
       ".prompt {\n",
       "\tvisible: false;\n",
       "\t}\n",
       "\n",
       "</style>\n",
       "\n"
      ],
      "text/plain": [
       "<IPython.core.display.HTML object>"
      ]
     },
     "execution_count": 16,
     "metadata": {},
     "output_type": "execute_result"
    }
   ],
   "source": [
    "from matplotlib.pyplot import *\n",
    "import matplotlib.pyplot as plt\n",
    "%matplotlib inline\n",
    "import numpy as np\n",
    "np.random.seed(123)\n",
    "import pandas as pd\n",
    "import seaborn as sns\n",
    "sns.set_style(\"whitegrid\", {'axes.grid' : False})\n",
    "\n",
    "from IPython.display import set_matplotlib_formats\n",
    "set_matplotlib_formats('png','pdf')\n",
    "plt.rcParams['font.size'] = 14\n",
    "\n",
    "import imp;\n",
    "from IPython.core.display import HTML\n",
    "css_file = '../my.css';\n",
    "HTML(open(css_file, \"r\").read())"
   ]
  },
  {
   "cell_type": "markdown",
   "metadata": {},
   "source": [
    "# Descriptive statistics\n",
    "\n",
    "### The population\n",
    "\n",
    "This is what it is all about. At the heart of all statistics lies the study of a **statistical population**: the set of **ALL** the **individuals** about which we want to make **inferences**. These inferences are made about one or more **random variables** of an individual. These variables are called \"random\" as they are numerical outcomes of a random phenomenon.\n",
    "\n",
    "Let's say we study the expression level of a gene \"geneA\" in mice (the random variable). The population for this study consists of all mice. For these individuals we want to make inferences about the variable \"expression level of geneA\".\n",
    "\n",
    "It is clear that obtaining the expression level of geneA for the full population is not possible. Nevertheless, for the sake of explanation, we will **act** as if we have access to the full population. \n",
    "\n",
    "We can **describe** a population by a **probability density function (PDF)**.  This a **function**  whose value at any given point on the x-axis can be interpreted as providing a relative likelihood that the value of the random variable would equal that point. \n",
    "\n",
    "The population of our expression levels of geneA in mice has a very common symmetric (bell-like) shape that is known as a **normal (or Gaussian) PDF**.\n",
    "\n",
    "The normal PDF is defined as\n",
    "\n",
    "$$PDF=\\frac{1}{\\sqrt{2 \\pi \\sigma^2}}e^{-\\frac{(x-\\mu)^2}{2\\sigma^2}}.$$\n",
    "\n",
    "The PDF specifies the probability of a gene expression value falling within a particular range of values. As the PDF is a continuous function this probability is given by the integral of the PDF over that range. \n",
    "\n",
    "From the normal PDF we learn that its shape is completely defined by it's mean $\\mu$ and variance $\\sigma^2$. For a population $X$ that contains $N$ individuals $x_i \\in X$ with $i=1 \\dots N$ the mean $\\mu$ is computed as\n",
    "\n",
    "$$\\mu = \\frac{1}{N}\\sum_{i=1}^{N}{x_i}$$\n",
    "\n",
    "and the variance $\\sigma^2$ as\n",
    "\n",
    "$$\\sigma^2 = \\frac{1}{N}\\sum_{i=1}^{N}{(x_i-\\mu)^2}.$$\n",
    "\n",
    "The variance $\\sigma^2$ is a measure of spread of the population. \n",
    "\n",
    "To make this clear the following plot shows the normal PDF for different values of $\\mu$ and $\\sigma^2$:\n",
    "\n",
    "<img src=\"normalPDF.png\"/>\n",
    "\n",
    "A more intuitive measure of spread is the **standard deviation** $\\sigma=\\sqrt{\\sigma^2}$. It is the distance from the mean out to either saddle point in the PDF. The saddle points on each graph are where the PDF changes from concave down to concave up. \n",
    "\n",
    "When a random variable follows a normal PDF we automatically know a few **properties** of the variable. For instance, about 68% of its values fall within one standard deviation from the mean, while 95% have a value within two standard deviations. This is shown in the figure below.\n",
    "\n",
    "<img src=\"percentiles.png\" width=\"600\" />\n",
    "\n",
    "Next to the mean and variance there are other **parameters** that describe a population. \n",
    "\n",
    "The **median** is the value separating the higher half of a PDF from the lower half. \n",
    "\n",
    "The **quantiles** are cutpoints dividing the range of a PDF into continuous intervals with equal probabilities. q-Quantiles are values that partition a finite set of values into q subsets of (nearly) equal sizes. For instance the 4-quantile (also known as the quartile) partition a finite set of values into 4 subsets of (nearly) equal sizes that each contain (nearly) 25% of the values. The first quantile is a value Q1 such that 25% of the data has a value lower than Q1, the second quantile is a value Q2 such that 50% of the data has a value lower than Q2 (this is the same as the median), etc. \n",
    "\n",
    "The difference between Q3 and Q1 is known as the **interquartile range**. \n",
    "\n",
    "The 100-quantiles are known as **percentiles** and are also shown in the figure above.\n",
    "\n",
    "### The sample\n",
    "\n",
    "Again, in real live we don't have access to the full population. Instead we typically have access to a very small subset of the population: the **sample** or **dataset**.\n",
    "\n",
    "Let's say we know the shape of the PDF for the geneA expression level in mice: $\\mu=0.26$ and $\\sigma=0.05$. Consider a (big) sample that contains $n=120$ mice (or **observations**) randomly drawn from the population:"
   ]
  },
  {
   "cell_type": "code",
   "execution_count": 17,
   "metadata": {},
   "outputs": [],
   "source": [
    "n = 120\n",
    "geneA_sample = np.random.normal(size=n,loc=0.26,scale=0.05)"
   ]
  },
  {
   "cell_type": "markdown",
   "metadata": {},
   "source": [
    "One way to describe the expression level of geneA in the sample is through a **histogram**. To construct a histogram, the first step is to bin the range of expression values — that is, divide the entire range of values into a series of intervals — and then count how many values fall into each interval. The x-axis represents the bins, the y-axis represents the counts. This forms a graphical description/representation of the **distribution** of a the geneA expression levels. The term \"distribution\" typically refers to the shape of the histogram. Our geneA expression level in mice follows a normal distribution.\n",
    "\n",
    "We can plot a histogram for the sample of geneA expression levels in Python as follows:"
   ]
  },
  {
   "cell_type": "code",
   "execution_count": 18,
   "metadata": {},
   "outputs": [
    {
     "data": {
      "application/pdf": "[encoded data removed]",
      "image/png": "[encoded data removed]",
      "text/plain": [
       "<matplotlib.figure.Figure at 0xd4e2be0>"
      ]
     },
     "metadata": {},
     "output_type": "display_data"
    }
   ],
   "source": [
    "plt.figure(figsize=(5,5))\n",
    "sns.distplot(geneA_sample,kde=False,bins=20)\n",
    "plt.title(\"geneA sample\")\n",
    "plt.show()"
   ]
  },
  {
   "cell_type": "markdown",
   "metadata": {},
   "source": [
    "It must be noted that the formulas for the mean and variance of a sample are slightly different. For a sample $x$ that contains $n$ observations $x_i \\in s$ with $i=1 \\dots n$ the mean is computed as\n",
    "\n",
    "$$\\overline{x} = \\frac{1}{n-1}\\sum_{i=1}^{n}{x_i}$$\n",
    "\n",
    "and the variance as\n",
    "\n",
    "$$s^2 = \\frac{1}{n-1}\\sum_{i=1}^{n}{(x_i-\\mu)^2}.$$"
   ]
  },
  {
   "cell_type": "markdown",
   "metadata": {},
   "source": [
    "Next to the histogram there is another popular graphical description of a distribution called the **boxplot** (also known as a **box and whisker diagram**). As shown in the image below it is a graphical representation of the quartiles where the range of the data is shown with the assumption that every value lower then Q1-1.5xIQR or higher then Q3+1.5xIQR is considered a outlier. Boxplots are more practical way of comparing the shapes of several distributions.\n",
    "\n",
    "<img src=\"boxplot.png\" width=\"300\"/>\n"
   ]
  },
  {
   "cell_type": "markdown",
   "metadata": {},
   "source": [
    "The following code computes the mean of the sample:"
   ]
  },
  {
   "cell_type": "code",
   "execution_count": 19,
   "metadata": {},
   "outputs": [
    {
     "name": "stdout",
     "output_type": "stream",
     "text": [
      "mean of sample: 0.260807\n"
     ]
    }
   ],
   "source": [
    "print \"mean of sample: %f\" % np.mean(geneA_sample) "
   ]
  },
  {
   "cell_type": "markdown",
   "metadata": {},
   "source": [
    "We see that the mean of the population does not equal the mean of the sample. Even though the sample was drawn at random from this population. \n",
    "\n",
    "If we want to make inferences about the population using the sample we need to take into account the uncertainty that is implied by a limited sample size $n<<N$. Statistics is all about quantifying this uncertainty by making **assumptions about the population(s)** from which one or more samples are drawn.\n",
    "\n",
    "The mean and the variance of the population are examples of a **parameter**. Parameters are summary measures of a population and as such are **fixed**.\n",
    "\n",
    "The sample mean and variance are known as **descriptive statistics** and are **variable** summary measures of a sample. This is  illustrated by drawing 100 smaller samples with $n=16$ and computing the mean for each sample:"
   ]
  },
  {
   "cell_type": "code",
   "execution_count": 20,
   "metadata": {},
   "outputs": [],
   "source": [
    "n=16\n",
    "\n",
    "sample_means = []\n",
    "for i in range(100):\n",
    "    sample = np.random.normal(size=n,loc=0.26,scale=0.05)\n",
    "    sample_means.append(np.mean(sample))"
   ]
  },
  {
   "cell_type": "markdown",
   "metadata": {},
   "source": [
    "Plotting these sample means as a histogram shows that these means differ from sample to sample:"
   ]
  },
  {
   "cell_type": "code",
   "execution_count": 21,
   "metadata": {},
   "outputs": [
    {
     "data": {
      "application/pdf": "[encoded data removed]",
      "image/png": "[encoded data removed]",
      "text/plain": [
       "<matplotlib.figure.Figure at 0xd66a080>"
      ]
     },
     "metadata": {},
     "output_type": "display_data"
    }
   ],
   "source": [
    "plt.figure(figsize=(5,5))\n",
    "sns.distplot(sample_means,kde=False,bins=10)\n",
    "plt.title(\"sample means\")\n",
    "plt.show()"
   ]
  },
  {
   "cell_type": "markdown",
   "metadata": {},
   "source": [
    "Notice how the shape of this distribution is again normal and the mean is close to the population mean:"
   ]
  },
  {
   "cell_type": "code",
   "execution_count": 22,
   "metadata": {},
   "outputs": [
    {
     "name": "stdout",
     "output_type": "stream",
     "text": [
      "mean of sample means: 0.258972\n"
     ]
    }
   ],
   "source": [
    "print \"mean of sample means: %f\" % np.mean(sample_means)"
   ]
  },
  {
   "cell_type": "markdown",
   "metadata": {},
   "source": [
    "In fact if we increase the number of samples we draw from the population the mean of the sample mean gets closer and closer to the sample mean:"
   ]
  },
  {
   "cell_type": "code",
   "execution_count": 23,
   "metadata": {},
   "outputs": [
    {
     "name": "stdout",
     "output_type": "stream",
     "text": [
      "mean of sample means: 0.260025\n"
     ]
    }
   ],
   "source": [
    "n=16\n",
    "\n",
    "sample_means = []\n",
    "for i in range(200000):\n",
    "    sample = np.random.normal(size=n,loc=0.26,scale=0.05)\n",
    "    sample_means.append(np.mean(sample))\n",
    "    \n",
    "print \"mean of sample means: %f\" % np.mean(sample_means)"
   ]
  },
  {
   "cell_type": "markdown",
   "metadata": {},
   "source": [
    "### The confidence interval\n",
    "\n",
    "The sample means follow a normal distribution and also have a standard deviation: "
   ]
  },
  {
   "cell_type": "code",
   "execution_count": 24,
   "metadata": {},
   "outputs": [
    {
     "data": {
      "text/plain": [
       "0.012559814200256193"
      ]
     },
     "execution_count": 24,
     "metadata": {},
     "output_type": "execute_result"
    }
   ],
   "source": [
    "np.std(sample_means)"
   ]
  },
  {
   "cell_type": "markdown",
   "metadata": {},
   "source": [
    "Suppose we would be able to draw all possible samples with fixed sample size $n$ then the standard deviation of the sample means is known as the **standard error of the mean (SEM)** and is equal to the standard deviation of the population divided by the square root of the sample size $n$. \n",
    "\n",
    "As we have access to the full population we can compute the SEM as follows:"
   ]
  },
  {
   "cell_type": "code",
   "execution_count": 25,
   "metadata": {},
   "outputs": [
    {
     "name": "stdout",
     "output_type": "stream",
     "text": [
      "SEM using population: 0.012500\n"
     ]
    }
   ],
   "source": [
    "print \"SEM using population: %f\" % (0.05/np.sqrt(n))"
   ]
  },
  {
   "cell_type": "markdown",
   "metadata": {},
   "source": [
    "For **one sample** the SEM is estimated as:\n",
    "\n",
    "$$SEM=\\frac{s}{\\sqrt{n}},$$\n",
    "\n",
    "where $s$ is the standard deviation of the sample. Let's compute the SEM from just one sample:"
   ]
  },
  {
   "cell_type": "code",
   "execution_count": 26,
   "metadata": {},
   "outputs": [
    {
     "name": "stdout",
     "output_type": "stream",
     "text": [
      "SEM: 0.011680\n"
     ]
    }
   ],
   "source": [
    "sample = np.random.normal(size=n,loc=0.26,scale=0.05)\n",
    "print \"SEM: %f\" % (np.std(sample)/np.sqrt(n))"
   ]
  },
  {
   "cell_type": "markdown",
   "metadata": {},
   "source": [
    "We can see that this is indeed close to the standard deviation of the population!\n",
    "\n",
    "In fact, when we look at the formula for the SEM we see that SEM gets larger as the sample variance increases. At the same time the SEM will decrease as the sample size $n$ increases. The square root is used to decrease the impact of the sample size on the SEM as $n$ increases.\n",
    "\n",
    "The SEM is used to compute a **confidence interval (CI)** for the mean of a population. The CI is an interval of values computed from the sample that is almost sure (set by a **level of confidence**) to cover the true population value. For instance, at a level of confidence of 95% the CI of the mean of a population is an interval of values computed from a sample drawn from this population that is 95% sure to cover the true population mean.\n",
    "\n",
    "The CI of the mean of a population is computed using a sample $x$ from the population as \n",
    "\n",
    "$$[\\overline{x} - t^* SEM,\\overline{x} + t^* SEM],$$\n",
    "\n",
    "where $t^*$ is a **T-statistic** that follows a **t-distribution** with $n-1$ degrees of freedom. Which t-distribution to use depends on the confidence level of the CI. For now it is sufficient to understand that the value for $t^*$ depends on the level of confidence. A more intuitive explanation of what a T-statistic is will be provided later in this course.\n",
    "\n",
    "The following code declares a Python function that computes the confidence interval for a certain confidence level given a sample $x$:"
   ]
  },
  {
   "cell_type": "code",
   "execution_count": 27,
   "metadata": {},
   "outputs": [],
   "source": [
    "import scipy as sp\n",
    "import scipy.stats\n",
    "\n",
    "def CI_mean(x, confidence=0.95):\n",
    "    a = 1.0*np.array(x)\n",
    "    n = len(a)\n",
    "    m, se = np.mean(a), scipy.stats.sem(a)\n",
    "    h = se * sp.stats.t._ppf((1+confidence)/2., n-1)\n",
    "    return m, m-h, m+h"
   ]
  },
  {
   "cell_type": "markdown",
   "metadata": {},
   "source": [
    "Suppose we would draw 1000 samples from the population of geneA expression levels and compute a 95% CI for each sample with the formula given above. As we have access to the full population we can compute the percentage of samples for which the CI indeed contains the population mean. This should be very close to 95%:"
   ]
  },
  {
   "cell_type": "code",
   "execution_count": 28,
   "metadata": {},
   "outputs": [
    {
     "name": "stdout",
     "output_type": "stream",
     "text": [
      "Probability that population mean is within sample CI: 0.953000\n"
     ]
    }
   ],
   "source": [
    "confidence = 0.95\n",
    "num_samples = 1000\n",
    "n = 16\n",
    "\n",
    "num_wrong = 0\n",
    "for i in range(0,num_samples):\n",
    "    m,l,h = CI_mean(np.random.normal(size=n,loc=0.26,scale=0.05),confidence)\n",
    "    if (l >= 0.26) | (h <= 0.26):\n",
    "        num_wrong += 1\n",
    "prob = (1. - (float(num_wrong)/num_samples))\n",
    "print \"Probability that population mean is within sample CI: %f\" % prob"
   ]
  },
  {
   "cell_type": "markdown",
   "metadata": {},
   "source": [
    "To conclude, **as long as the population is normal (these is the assumption we make about the population!)**, one sample can be used to quantify the uncertainty (using the CI) about the mean of the population from which the sample was drawn."
   ]
  }
 ],
 "metadata": {
  "kernelspec": {
   "display_name": "Python 2",
   "language": "python",
   "name": "python2"
  },
  "language_info": {
   "codemirror_mode": {
    "name": "ipython",
    "version": 2
   },
   "file_extension": ".py",
   "mimetype": "text/x-python",
   "name": "python",
   "nbconvert_exporter": "python",
   "pygments_lexer": "ipython2",
   "version": "2.7.14"
  }
 },
 "nbformat": 4,
 "nbformat_minor": 2
}
