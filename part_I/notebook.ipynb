{
  "nbformat": 4,
  "nbformat_minor": 0,
  "metadata": {
    "kernelspec": {
      "name": "python3",
      "display_name": "Python 3"
    },
    "colab": {
      "name": "notebook.ipynb",
      "provenance": [],
      "toc_visible": true
    }
  },
  "cells": [
    {
      "cell_type": "code",
      "metadata": {
        "scrolled": true,
        "id": "rsjTCYgU1jzB",
        "colab_type": "code",
        "colab": {}
      },
      "source": [
        "%matplotlib inline\n",
        "import matplotlib.pyplot as plt\n",
        "import numpy as np\n",
        "np.random.seed(123)\n",
        "import pandas as pd\n",
        "import seaborn as sns\n",
        "sns.set_style(\"whitegrid\", {'axes.grid' : False})\n",
        "import imp;\n",
        "import warnings\n",
        "warnings.filterwarnings('ignore')"
      ],
      "execution_count": 3,
      "outputs": []
    },
    {
      "cell_type": "markdown",
      "metadata": {
        "id": "dczC-e1pCswn",
        "colab_type": "text"
      },
      "source": [
        "# Descriptive statistics"
      ]
    },
    {
      "cell_type": "markdown",
      "metadata": {
        "id": "J_gczead1jzT",
        "colab_type": "text"
      },
      "source": [
        "## The population\n",
        "\n",
        "This is what it is all about. At the heart of all statistics lies the study of a **statistical population**: the set of **ALL** the **individuals** about which we want to make **inferences**. These inferences are made about one or more **random variables** of an individual. These variables are called \"random\" as they are numerical outcomes of a random phenomenon.\n",
        "\n",
        "Let's say we study the expression level of a gene \"geneA\" in mice (the random variable). The population for this study consists of all mice. For these individuals we want to make inferences about the variable \"expression level of geneA\".\n",
        "\n",
        "It is clear that obtaining the expression level of geneA for the full population is not possible. Nevertheless, for the sake of explanation, we will **act** as if we have access to the full population. \n",
        "\n",
        "We can **describe** a population by a **probability density function (PDF)**.  This a **function**  whose value at any given point on the x-axis can be interpreted as providing a relative likelihood that the value of the random variable would equal that point. \n",
        "\n",
        "So, the PDF specifies the probability of a gene expression value falling within a particular range of values. As the PDF is a continuous function this probability is given by the integral of the PDF over that range. \n",
        "\n",
        "The population of our expression levels of geneA in mice has a very common symmetric (bell-like) shape that is known as a **normal (or Gaussian) PDF**.\n",
        "\n",
        "The normal PDF is defined as\n",
        "\n",
        "$$PDF=\\frac{1}{\\sqrt{2 \\pi \\sigma^2}}e^{-\\frac{(x-\\mu)^2}{2\\sigma^2}}.$$\n",
        "\n",
        "From the normal PDF we learn that its shape is completely defined by it's mean $\\mu$ and variance $\\sigma^2$. For a population $X$ that contains $N$ individuals $x_i \\in X$ with $i=1 \\dots N$ the mean $\\mu$ is computed as\n",
        "\n",
        "$$\\mu = \\frac{1}{N}\\sum_{i=1}^{N}{x_i}$$\n",
        "\n",
        "and the variance $\\sigma^2$ as\n",
        "\n",
        "$$\\sigma^2 = \\frac{1}{N}\\sum_{i=1}^{N}{(x_i-\\mu)^2}.$$\n",
        "\n",
        "The variance $\\sigma^2$ is a measure of spread of the population. \n",
        "\n",
        "To make this clear the following plot shows the normal PDF for different values of $\\mu$ and $\\sigma^2$:\n",
        "\n",
        "<br/>\n",
        "<br/>\n",
        "<img src=\"https://github.com/sdgroeve/D012513/blob/master/part_I/normalPDF.png?raw=1\"/>\n",
        "<br/>\n",
        "<br/>\n",
        "\n",
        "A more intuitive measure of spread is the **standard deviation** $\\sigma=\\sqrt{\\sigma^2}$. It is the distance from the mean out to either saddle point in the PDF. The saddle points on each graph are where the PDF changes from concave down to concave up. \n",
        "\n",
        "When a random variable follows a normal PDF we automatically know a few **properties** of the variable. For instance, about 68% of its values fall within one standard deviation from the mean, while 95% have a value within two standard deviations. This is shown in the figure below.\n",
        "\n",
        "<br/>\n",
        "<br/>\n",
        "<img src=\"https://github.com/sdgroeve/D012513/blob/master/part_I/percentiles.png?raw=1\" width=\"600\" />\n",
        "<br/>\n",
        "<br/>\n",
        "\n",
        "Next to the mean and variance there are other **parameters** that describe a population. \n",
        "\n",
        "The **median** is the value separating the higher half of a PDF from the lower half. \n",
        "\n",
        "The **quantiles** are cutpoints dividing the range of a PDF into continuous intervals with equal probabilities. q-Quantiles are values that partition a finite set of values into q subsets of (nearly) equal sizes. For instance the 4-quantile (also known as the quartile) partition a finite set of values into 4 subsets of (nearly) equal sizes that each contain (nearly) 25% of the values. The first quantile is a value Q1 such that 25% of the data has a value lower than Q1, the second quantile is a value Q2 such that 50% of the data has a value lower than Q2 (this is the same as the median), etc. \n",
        "\n",
        "The difference between Q3 and Q1 is known as the **interquartile range**. \n",
        "\n",
        "The 100-quantiles are known as **percentiles** and are also shown in the figure above."
      ]
    },
    {
      "cell_type": "markdown",
      "metadata": {
        "id": "_Dy_s9CeC9_r",
        "colab_type": "text"
      },
      "source": [
        "## The sample\n",
        "Again, in real live we don't have access to the full population. Instead we typically have access to a very small subset of the population: the **sample** or **dataset**.\n",
        "\n",
        "Let's say we know the shape of the PDF for the geneA expression level in mice: $\\mu=0.26$ and $\\sigma=0.05$. Consider a sample that contains $n=50$ mice (or **observations**) randomly drawn from the population:\n"
      ]
    },
    {
      "cell_type": "code",
      "metadata": {
        "id": "oCb4YWxU1jzU",
        "colab_type": "code",
        "colab": {}
      },
      "source": [
        "n = 60\n",
        "geneA_sample = np.random.normal(size=n,loc=0.26,scale=0.05)"
      ],
      "execution_count": 10,
      "outputs": []
    },
    {
      "cell_type": "markdown",
      "metadata": {
        "id": "kDP60_3B1jzi",
        "colab_type": "text"
      },
      "source": [
        "One way to describe (and visualize) the expression level of geneA in the sample is through a **histogram**. To construct a histogram, the first step is to bin the range of expression values — that is, divide the entire range of values into a series of intervals — and then count how many values fall into each interval. The x-axis represents the bins, the y-axis represents the counts. This forms a graphical description/representation of the **distribution** of a the geneA expression levels. The term \"distribution\" typically refers to the shape of the histogram. We know the geneA expression level in mice follows a normal distribution.\n",
        "\n",
        "We can plot a histogram for the sample of geneA expression levels in Python as follows:"
      ]
    },
    {
      "cell_type": "code",
      "metadata": {
        "id": "Cs7E4HDe1jzj",
        "colab_type": "code",
        "colab": {
          "base_uri": "https://localhost:8080/",
          "height": 336
        },
        "outputId": "cfe34582-47b7-425f-9ad6-9d82de5e7df9"
      },
      "source": [
        "plt.figure(figsize=(5,5))\n",
        "sns.distplot(geneA_sample,kde=False,bins=10)\n",
        "plt.title(\"geneA sample\")\n",
        "plt.show()"
      ],
      "execution_count": 13,
      "outputs": [
        {
          "output_type": "display_data",
          "data": {
            "image/png": "[encoded data removed]",
            "text/plain": [
              "<Figure size 360x360 with 1 Axes>"
            ]
          },
          "metadata": {
            "tags": []
          }
        }
      ]
    },
    {
      "cell_type": "markdown",
      "metadata": {
        "id": "FO7Cx5Nu1jzr",
        "colab_type": "text"
      },
      "source": [
        "For a sample $x$ that contains $n$ observations $x_i \\in s$ with $i=1 \\dots n$ the mean is computed as\n",
        "\n",
        "$$\\overline{x} = \\frac{1}{n}\\sum_{i=1}^{n}{x_i}$$\n",
        "\n",
        "and the variance as\n",
        "\n",
        "$$s^2 = \\frac{1}{n-1}\\sum_{i=1}^{n}{(x_i-\\mu)^2}.$$"
      ]
    },
    {
      "cell_type": "markdown",
      "metadata": {
        "id": "M7O__KmA1jzt",
        "colab_type": "text"
      },
      "source": [
        "Next to the histogram there is another popular graphical description of a distribution called the **boxplot** (also known as a **box and whisker diagram**). As shown in the image below it is a graphical representation of the quartiles where the range of the data is shown with the assumption that every value lower then Q1-1.5xIQR or higher then Q3+1.5xIQR is considered a outlier. Boxplots are more practical way of comparing the shapes of several distributions.\n",
        "\n",
        "<img src=\"https://github.com/sdgroeve/D012513/blob/master/part_I/boxplot.png?raw=1\" width=\"300\"/>\n"
      ]
    },
    {
      "cell_type": "markdown",
      "metadata": {
        "id": "u4BR7rGD1jzu",
        "colab_type": "text"
      },
      "source": [
        "The following code computes the mean of the sample:"
      ]
    },
    {
      "cell_type": "code",
      "metadata": {
        "id": "pMQMCC6_1jzu",
        "colab_type": "code",
        "colab": {
          "base_uri": "https://localhost:8080/",
          "height": 34
        },
        "outputId": "c9f4c104-1aa8-40f1-f201-1822dee99960"
      },
      "source": [
        "np.mean(geneA_sample)"
      ],
      "execution_count": 22,
      "outputs": [
        {
          "output_type": "execute_result",
          "data": {
            "text/plain": [
              "0.2638161545943586"
            ]
          },
          "metadata": {
            "tags": []
          },
          "execution_count": 22
        }
      ]
    },
    {
      "cell_type": "markdown",
      "metadata": {
        "id": "mn76jGdR1jz1",
        "colab_type": "text"
      },
      "source": [
        "We see that the mean of the population does not equal the mean of the sample. Even though the sample was drawn at random from this population. \n",
        "\n",
        "If we want to make inferences about the population using the sample we need to take into account the uncertainty that is implied by a limited sample size $n<<N$. Statistics is all about quantifying this uncertainty by making **assumptions about the population(s)** from which one or more samples are drawn.\n",
        "\n",
        "The mean and the variance of the population are examples of a **parameter**. Parameters are summary measures of a population and as such are **fixed**.\n",
        "\n",
        "The sample mean and variance are known as **descriptive statistics** and are **variable** summary measures of a sample. This is  illustrated by drawing 100 smaller samples with $n=16$ and computing the mean for each sample:"
      ]
    },
    {
      "cell_type": "code",
      "metadata": {
        "id": "mAzeCm_71jz2",
        "colab_type": "code",
        "colab": {}
      },
      "source": [
        "n=16\n",
        "\n",
        "sample_means = []\n",
        "for i in range(100):\n",
        "    sample = np.random.normal(size=n,loc=0.26,scale=0.05)\n",
        "    sample_means.append(np.mean(sample))"
      ],
      "execution_count": 15,
      "outputs": []
    },
    {
      "cell_type": "markdown",
      "metadata": {
        "id": "pn5PMZM61jz-",
        "colab_type": "text"
      },
      "source": [
        "Plotting these sample means as a histogram shows that these means differ from sample to sample:"
      ]
    },
    {
      "cell_type": "code",
      "metadata": {
        "id": "IV0SryGW1jz_",
        "colab_type": "code",
        "colab": {
          "base_uri": "https://localhost:8080/",
          "height": 336
        },
        "outputId": "e28889b9-7069-454b-c7ae-55f26ef3a2a5"
      },
      "source": [
        "plt.figure(figsize=(5,5))\n",
        "sns.distplot(sample_means,kde=False,bins=20)\n",
        "plt.title(\"sample means\")\n",
        "plt.show()"
      ],
      "execution_count": 17,
      "outputs": [
        {
          "output_type": "display_data",
          "data": {
            "image/png": "[encoded data removed]",
            "text/plain": [
              "<Figure size 360x360 with 1 Axes>"
            ]
          },
          "metadata": {
            "tags": []
          }
        }
      ]
    },
    {
      "cell_type": "markdown",
      "metadata": {
        "id": "hEGBKTU71j0E",
        "colab_type": "text"
      },
      "source": [
        "This distribution is again normal and the mean is close to the population mean:"
      ]
    },
    {
      "cell_type": "code",
      "metadata": {
        "id": "SxyV7pY11j0E",
        "colab_type": "code",
        "colab": {
          "base_uri": "https://localhost:8080/",
          "height": 34
        },
        "outputId": "c8f10efd-479c-4193-a07c-2f415fddd1e3"
      },
      "source": [
        "np.mean(sample_means)"
      ],
      "execution_count": 21,
      "outputs": [
        {
          "output_type": "execute_result",
          "data": {
            "text/plain": [
              "0.2600252140615145"
            ]
          },
          "metadata": {
            "tags": []
          },
          "execution_count": 21
        }
      ]
    },
    {
      "cell_type": "markdown",
      "metadata": {
        "id": "kAsiDv9z1j0J",
        "colab_type": "text"
      },
      "source": [
        "In fact if we increase the number of samples we draw from the population then the mean of the sample means becomes more and more equal to the sample mean:"
      ]
    },
    {
      "cell_type": "code",
      "metadata": {
        "id": "J3nr33Pz1j0L",
        "colab_type": "code",
        "colab": {
          "base_uri": "https://localhost:8080/",
          "height": 34
        },
        "outputId": "a5781da4-4e8e-429c-8a4f-5b17b8e8011c"
      },
      "source": [
        "n=16\n",
        "\n",
        "sample_means = []\n",
        "for i in range(200000):\n",
        "    sample = np.random.normal(size=n,loc=0.26,scale=0.05)\n",
        "    sample_means.append(np.mean(sample))\n",
        "    \n",
        "np.mean(sample_means)"
      ],
      "execution_count": 24,
      "outputs": [
        {
          "output_type": "execute_result",
          "data": {
            "text/plain": [
              "0.260009683294967"
            ]
          },
          "metadata": {
            "tags": []
          },
          "execution_count": 24
        }
      ]
    },
    {
      "cell_type": "markdown",
      "metadata": {
        "id": "3yVU17l41j0O",
        "colab_type": "text"
      },
      "source": [
        "## The confidence interval\n",
        "\n",
        "The sample means follow a normal distribution and have a standard deviation: "
      ]
    },
    {
      "cell_type": "code",
      "metadata": {
        "id": "1OShJqGw1j0P",
        "colab_type": "code",
        "colab": {
          "base_uri": "https://localhost:8080/",
          "height": 34
        },
        "outputId": "d4bfd028-78ab-4a65-e251-e7a5299d7136"
      },
      "source": [
        "np.std(sample_means)"
      ],
      "execution_count": 20,
      "outputs": [
        {
          "output_type": "execute_result",
          "data": {
            "text/plain": [
              "0.012528328873090447"
            ]
          },
          "metadata": {
            "tags": []
          },
          "execution_count": 20
        }
      ]
    },
    {
      "cell_type": "markdown",
      "metadata": {
        "id": "tzhSs5dF1j0T",
        "colab_type": "text"
      },
      "source": [
        "Notice that this value differs significantly from the population $\\sigma$ parameter.\n",
        "\n",
        "Suppose we would be able to draw all possible samples with fixed sample size $n$ then the standard deviation of the sample means is known as the **standard error of the mean (SEM)** and is equal to the standard deviation of the population divided by the square root of the sample size $n$. \n",
        "\n",
        "As we have access to the full population we can compute the SEM as follows:"
      ]
    },
    {
      "cell_type": "code",
      "metadata": {
        "id": "oSoFK9Rd1j0U",
        "colab_type": "code",
        "colab": {
          "base_uri": "https://localhost:8080/",
          "height": 34
        },
        "outputId": "4c615c3a-072a-459f-f5e1-f7ca516b1698"
      },
      "source": [
        "0.05/np.sqrt(n)"
      ],
      "execution_count": 23,
      "outputs": [
        {
          "output_type": "execute_result",
          "data": {
            "text/plain": [
              "0.0125"
            ]
          },
          "metadata": {
            "tags": []
          },
          "execution_count": 23
        }
      ]
    },
    {
      "cell_type": "markdown",
      "metadata": {
        "id": "_rsDlNw91j0Y",
        "colab_type": "text"
      },
      "source": [
        "For **one sample** the SEM is estimated as:\n",
        "\n",
        "$$SEM=\\frac{s}{\\sqrt{n}},$$\n",
        "\n",
        "where $s$ is the standard deviation of the sample. Let's compute the SEM from just one sample:"
      ]
    },
    {
      "cell_type": "code",
      "metadata": {
        "id": "XwJpUgfe1j0b",
        "colab_type": "code",
        "colab": {
          "base_uri": "https://localhost:8080/",
          "height": 34
        },
        "outputId": "590ea081-8ed5-44cd-c765-953497438b87"
      },
      "source": [
        "sample = np.random.normal(size=n,loc=0.26,scale=0.05)\n",
        "np.std(sample)/np.sqrt(n)"
      ],
      "execution_count": 25,
      "outputs": [
        {
          "output_type": "execute_result",
          "data": {
            "text/plain": [
              "0.01106952615194675"
            ]
          },
          "metadata": {
            "tags": []
          },
          "execution_count": 25
        }
      ]
    },
    {
      "cell_type": "markdown",
      "metadata": {
        "id": "rbRNoXbi1j0g",
        "colab_type": "text"
      },
      "source": [
        "We can see that this is indeed close to the standard deviation of the population!\n",
        "\n",
        "In fact, when we look at the formula for the SEM then we see that SEM becomes larger as the sample variance increases. At the same time the SEM will decrease as the sample size $n$ increases. The square root is used to decrease the impact of the sample size on the SEM as $n$ increases.\n",
        "\n",
        "The SEM is used to compute a **confidence interval (CI)** for the mean of a population. The CI is an interval of values computed from the sample that is almost sure (set by a **level of confidence**) to cover the true population value. For instance, at a level of confidence of 95% the CI of the mean of a population is an interval of values computed from a sample drawn from this population that is 95% sure to cover the true population mean.\n",
        "\n",
        "The CI of the mean of a population is computed using a sample $x$ from the population as \n",
        "\n",
        "$$[\\overline{x} - t^* SEM,\\overline{x} + t^* SEM],$$\n",
        "\n",
        "where $t^*$ is a **T-statistic** that follows a **t-distribution** with $n-1$ degrees of freedom. Which t-distribution to use depends on the confidence level of the CI. For now it is sufficient to understand that the value for $t^*$ depends on the level of confidence. A more intuitive explanation of what a T-statistic is will be provided later in this course.\n",
        "\n",
        "The following code declares a Python function that computes the confidence interval for a certain confidence level given a sample $x$:"
      ]
    },
    {
      "cell_type": "code",
      "metadata": {
        "id": "Qa6RMub11j0h",
        "colab_type": "code",
        "colab": {}
      },
      "source": [
        "import scipy as sp\n",
        "import scipy.stats\n",
        "\n",
        "#no need to understand this\n",
        "def CI_mean(x, confidence=0.95):\n",
        "    a = 1.0*np.array(x)\n",
        "    n = len(a)\n",
        "    m, se = np.mean(a), scipy.stats.sem(a)\n",
        "    h = se * sp.stats.t._ppf((1+confidence)/2., n-1)\n",
        "    return m, m-h, m+h"
      ],
      "execution_count": 27,
      "outputs": []
    },
    {
      "cell_type": "markdown",
      "metadata": {
        "id": "5PQ53rDZ1j0k",
        "colab_type": "text"
      },
      "source": [
        "Suppose we would draw 1000 samples from the population of geneA expression levels and compute a 95% CI for each sample with the formula given above. As we have access to the full population we can compute the percentage of samples for which the CI indeed contains the population mean. This should be very close to 95%:"
      ]
    },
    {
      "cell_type": "code",
      "metadata": {
        "id": "WnJVR2MY1j0l",
        "colab_type": "code",
        "colab": {
          "base_uri": "https://localhost:8080/",
          "height": 34
        },
        "outputId": "1fff2f6c-2849-49ed-d625-cf386221df3a"
      },
      "source": [
        "confidence = 0.95\n",
        "num_samples = 1000\n",
        "n = 16\n",
        "\n",
        "num_wrong = 0\n",
        "for i in range(0,num_samples):\n",
        "    m,l,h = CI_mean(np.random.normal(size=n,loc=0.26,scale=0.05),confidence)\n",
        "    if (l >= 0.26) | (h <= 0.26):\n",
        "        num_wrong += 1\n",
        "prob = (1. - (float(num_wrong)/num_samples))\n",
        "print(\"Probability that population mean is within sample CI: %f\"%prob)"
      ],
      "execution_count": 28,
      "outputs": [
        {
          "output_type": "stream",
          "text": [
            "Probability that population mean is within sample CI: 0.954000\n"
          ],
          "name": "stdout"
        }
      ]
    },
    {
      "cell_type": "markdown",
      "metadata": {
        "id": "sBzNou9S1j0q",
        "colab_type": "text"
      },
      "source": [
        "To conclude, **as long as the population follows a normal distribution**, one sample can be used to quantify the uncertainty (using the CI) about the mean of the population from which the sample was drawn."
      ]
    },
    {
      "cell_type": "code",
      "metadata": {
        "id": "E9eVmyq3IoqF",
        "colab_type": "code",
        "colab": {}
      },
      "source": [
        ""
      ],
      "execution_count": null,
      "outputs": []
    }
  ]
}