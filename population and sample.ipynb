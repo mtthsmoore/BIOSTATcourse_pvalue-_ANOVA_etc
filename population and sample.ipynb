{
 "cells": [
  {
   "cell_type": "code",
   "execution_count": 2,
   "metadata": {
    "collapsed": true
   },
   "outputs": [],
   "source": [
    "%matplotlib inline\n",
    "import matplotlib.pyplot as plt\n",
    "import numpy as np\n",
    "import pandas as pd\n",
    "import seaborn as sns\n",
    "sns.set(font_scale=1.5)\n",
    "sns.set_style(\"whitegrid\")"
   ]
  },
  {
   "cell_type": "markdown",
   "metadata": {},
   "source": [
    "# Descriptive statistics\n",
    "\n",
    "### The population\n",
    "\n",
    "At the heart of all statistics lies the study of a **statistical population** (or a **statistical model** as will be disccussed later in the course). A statistical population is the set of **all** the **individuals** about which we want to make **inferences**. These inferences are made about one or more **variables** of an individual.\n",
    "\n",
    "Suppose for instance we want to study the expression level of a gene \"geneA\" in all persons with blue eyes. The statistical population would the be all individuals in the world that qualify as a person and that have blue eyes (let's say at least one blue eye). We want to make inferences about the variable \"expression level of geneA\".\n",
    "\n",
    "It is clear that obtaining the expression level of geneA for the full population is not possible (at least not for now). Nevertheless, for the sake of explaination, we will act as if we have access to the full population.\n",
    "\n",
    "The code below creates a simulated population with $N=100000$ individuals:"
   ]
  },
  {
   "cell_type": "code",
   "execution_count": 5,
   "metadata": {
    "collapsed": false
   },
   "outputs": [],
   "source": [
    "N = 100000\n",
    "#the meaning of \"loc\" and \"scale\" will be made clear later\n",
    "geneA_population = np.random.normal(size=N,loc=0.26,scale=0.05)"
   ]
  },
  {
   "cell_type": "markdown",
   "metadata": {},
   "source": [
    "### The distribution\n",
    "\n",
    "A histogram is a graphical representation of the distribution of (continuous) variable such as the population we created above. To construct a histogram, the first step is to bin the range of values—that is, divide the entire range of values into a series of intervals—and then count how many values fall into each interval. The x-axis represents the bins, the y-axis represents the counts. \n",
    "\n",
    "We can plot a histogram of the population of geneA expression levels in python as follows:"
   ]
  },
  {
   "cell_type": "code",
   "execution_count": 14,
   "metadata": {
    "collapsed": false
   },
   "outputs": [
    {
     "data": {
      "image/png": "[encoded data removed]",
      "text/plain": [
       "<matplotlib.figure.Figure at 0xd5a4ba8>"
      ]
     },
     "metadata": {},
     "output_type": "display_data"
    }
   ],
   "source": [
    "plt.figure(figsize=(6,6))\n",
    "sns.distplot(geneA_population,kde=False)\n",
    "plt.title(\"population of geneA\")\n",
    "plt.show()"
   ]
  },
  {
   "cell_type": "markdown",
   "metadata": {},
   "source": [
    "We can see that see that geneA expression levels for persons with blue eyes range between 0.5 and 4.5 with most persons having an expression level in the range between 2.4 and 2.8. We have now described the population by looking at the histogram.\n",
    "\n",
    "The histogram reveals probabilities of ranges of the expression level. Suppose we want to know how likely it is that geneA has an expression level equal or greater than 0.3. Since I have access to the full population I can just count the number of individuals that have an expression level $\\ge 0.3$ and divide by the total number of individuals in the population:"
   ]
  },
  {
   "cell_type": "code",
   "execution_count": 8,
   "metadata": {
    "collapsed": false
   },
   "outputs": [
    {
     "name": "stdout",
     "output_type": "stream",
     "text": [
      "p(exp_lev >= 0.300000) = 0.211010\n"
     ]
    }
   ],
   "source": [
    "t = 0.3\n",
    "print \"p(exp_lev >= %f) = %f\" % (t, float(np.sum(geneA_population>=t))/len(geneA_population))"
   ]
  },
  {
   "cell_type": "markdown",
   "metadata": {},
   "source": [
    "So the probability that geneA's expression level is equal or greater than 0.3 is 0.21.\n",
    "\n",
    "The distribution of the expression levels for geneA has a very common symmetric (bell-like) shape and is known as a **normal (or Gaussian) distribtion**. \n",
    "\n",
    "### The population parameters\n",
    "\n",
    "The shape of a normal distribution is completely defined by it's mean $\\mu$ and variance $\\sigma^2$. For a population $X$ that contains $N$ individuals $x_i \\in X$ with $i=1 \\dots N$ the mean $\\mu$ is computed as\n",
    "\n",
    "$$\\mu = \\frac{1}{N}\\sum_{i=1}^{N}{x_i}$$\n",
    "\n",
    "and the variance $\\sigma^2$ as\n",
    "\n",
    "$$\\sigma^2 = \\frac{1}{N}\\sum_{i=1}^{N}{(x_i-\\mu)^2}.$$\n",
    "\n",
    "The variance $\\sigma^2$ is a measure of spread of the population. \n",
    "\n",
    "A more intuitive measure of spread is the **standard deviation** $\\sigma=\\sqrt{\\sigma^2}$. It is the distance from the mean out to either saddle point in the distribution. The saddle points on each graph are where the distribution changes from concave down to concave up. \n",
    "\n",
    "### The sample and uncertainty\n",
    "\n",
    "In real live we don't have access to the full population. Instead we obtain a (small) **sample** (using one of many sampling procedures) of the population and we use this sample to make inferences about the population.\n",
    "\n",
    "Consider a sample (or **dataset**) with $n=16$ persons (or **observations**) with blue eyes randomly drawn from the population:"
   ]
  },
  {
   "cell_type": "code",
   "execution_count": 12,
   "metadata": {
    "collapsed": false
   },
   "outputs": [
    {
     "name": "stdout",
     "output_type": "stream",
     "text": [
      "my sample:\n",
      "[ 0.30676146  0.23825668  0.30945352  0.25815694  0.33363024  0.2154292\n",
      "  0.24137149  0.34518761  0.29060562  0.32255024  0.20425045  0.19141318\n",
      "  0.19471878  0.29912496  0.2110003   0.27780794]\n"
     ]
    }
   ],
   "source": [
    "n=16\n",
    "\n",
    "sample = np.random.choice(geneA_population,size=n)\n",
    "print \"my sample:\"\n",
    "print sample"
   ]
  },
  {
   "cell_type": "markdown",
   "metadata": {},
   "source": [
    "It must be noted that the formulas for the mean and variance of a sample are slightly different. For a sample $s$ that contains $n$ observations $x_i \\in s$ with $i=1 \\dots n$ the mean is computed as\n",
    "\n",
    "$$\\overline{x} = \\frac{1}{n-1}\\sum_{i=1}^{n}{x_i}$$\n",
    "\n",
    "and the variance as\n",
    "\n",
    "$$s^2 = \\frac{1}{n-1}\\sum_{i=1}^{n}{(x_i-\\mu)^2}.$$\n",
    "\n",
    "Now let's compute the mean of the population and the sample:"
   ]
  },
  {
   "cell_type": "code",
   "execution_count": 14,
   "metadata": {
    "collapsed": false
   },
   "outputs": [
    {
     "name": "stdout",
     "output_type": "stream",
     "text": [
      "mean of population: 0.259960\n",
      "mean of sample: 0.264982\n"
     ]
    }
   ],
   "source": [
    "def mean_population(x):\n",
    "    return np.sum(x)/float(len(x))\n",
    "\n",
    "print \"mean of population: %f\" % mean_population(geneA_population)\n",
    "print \"mean of sample: %f\" % np.mean(sample) #np.mean() computes the sample mean"
   ]
  },
  {
   "cell_type": "markdown",
   "metadata": {},
   "source": [
    "We see that the mean of the population does not equal the mean of the sample. Eventhough the sample was drawn at random from this population. \n",
    "\n",
    "If we want to make inferences about the population using the sample we need to take into account the uncertainty that is implied by a limited sample size $n<<N$. Statistics is all about quantifying this uncertainty by making assumptions about the population(s) from which one or more samples are drawn.\n",
    "\n",
    "The mean and the variance of the population are examples of a **parameter**. Parameters are summary measures of a population and as such are **fixed**.\n",
    "\n",
    "The sample mean and variance are known as **descriptive statistics** and are **variable** summary measures of a sample. This is  illustrated by drawing 100 samples and computing the mean for each sample:"
   ]
  },
  {
   "cell_type": "code",
   "execution_count": 15,
   "metadata": {
    "collapsed": false
   },
   "outputs": [],
   "source": [
    "n=16\n",
    "\n",
    "sample_means = []\n",
    "for i in range(100):\n",
    "    sample = np.random.choice(geneA_population,size=n)\n",
    "    sample_means.append(np.mean(sample))"
   ]
  },
  {
   "cell_type": "markdown",
   "metadata": {},
   "source": [
    "Plotting these sample means as a histogram shows that these means differ from sample to sample:"
   ]
  },
  {
   "cell_type": "code",
   "execution_count": 16,
   "metadata": {
    "collapsed": false
   },
   "outputs": [
    {
     "data": {
      "image/png": "[encoded data removed]",
      "text/plain": [
       "<matplotlib.figure.Figure at 0xcada0f0>"
      ]
     },
     "metadata": {},
     "output_type": "display_data"
    }
   ],
   "source": [
    "plt.figure(figsize=(6,6))\n",
    "sns.distplot(sample_means,kde=False,bins=10)\n",
    "plt.title(\"sample means\")\n",
    "plt.show()"
   ]
  },
  {
   "cell_type": "markdown",
   "metadata": {},
   "source": [
    "However, the shape of this distribution is again normal and the mean is close to the population mean:"
   ]
  },
  {
   "cell_type": "code",
   "execution_count": 17,
   "metadata": {
    "collapsed": false
   },
   "outputs": [
    {
     "name": "stdout",
     "output_type": "stream",
     "text": [
      "mean of population: 0.259960\n",
      "mean of sample means: 0.263604\n"
     ]
    }
   ],
   "source": [
    "print \"mean of population: %f\" % np.mean(geneA_population)\n",
    "print \"mean of sample means: %f\" % np.mean(sample_means)"
   ]
  },
  {
   "cell_type": "markdown",
   "metadata": {},
   "source": [
    "In fact if we increase the number of samples we draw from the population the mean of the sample mean gets very close to the sample mean:"
   ]
  },
  {
   "cell_type": "code",
   "execution_count": 21,
   "metadata": {
    "collapsed": false
   },
   "outputs": [
    {
     "name": "stdout",
     "output_type": "stream",
     "text": [
      "mean of population: 0.259960\n",
      "mean of sample means: 0.259977\n"
     ]
    }
   ],
   "source": [
    "n=16\n",
    "\n",
    "sample_means = []\n",
    "for i in range(100000):\n",
    "    sample = np.random.choice(geneA_population,size=n)\n",
    "    sample_means.append(np.mean(sample))\n",
    "    \n",
    "print \"mean of population: %f\" % np.mean(geneA_population)\n",
    "print \"mean of sample means: %f\" % np.mean(sample_means)"
   ]
  },
  {
   "cell_type": "markdown",
   "metadata": {},
   "source": [
    "### The confidence interval\n",
    "\n",
    "The sample means follows a normal distribution and also have a standard deviation: "
   ]
  },
  {
   "cell_type": "code",
   "execution_count": 36,
   "metadata": {
    "collapsed": false
   },
   "outputs": [
    {
     "data": {
      "text/plain": [
       "0.012261805425965455"
      ]
     },
     "execution_count": 36,
     "metadata": {},
     "output_type": "execute_result"
    }
   ],
   "source": [
    "np.std(sample_means)"
   ]
  },
  {
   "cell_type": "markdown",
   "metadata": {},
   "source": [
    "Suppose we would be able to draw all possible samples with fixed sample size $n$ then the standard deviation the sample means is known as the **standard error of the mean (SEM)** and is equal to the standard deviation of the population divided by the square root of the sample size $n$. \n",
    "\n",
    "As we have access to the full population we can compute the SEM as follows:"
   ]
  },
  {
   "cell_type": "code",
   "execution_count": 29,
   "metadata": {
    "collapsed": false
   },
   "outputs": [
    {
     "name": "stdout",
     "output_type": "stream",
     "text": [
      "SEM using population: 0.012516\n"
     ]
    }
   ],
   "source": [
    "print \"SEM using population: %f\" % (np.std(geneA_population)/np.sqrt(n))"
   ]
  },
  {
   "cell_type": "markdown",
   "metadata": {},
   "source": [
    "For one sample the SEM is estimated as:\n",
    "\n",
    "$$SEM=\\frac{s}{\\sqrt{n}},$$\n",
    "\n",
    "where $s$ is the standard deviation of the sample. Let's compute the SEM from just one sample:"
   ]
  },
  {
   "cell_type": "code",
   "execution_count": 30,
   "metadata": {
    "collapsed": false
   },
   "outputs": [
    {
     "name": "stdout",
     "output_type": "stream",
     "text": [
      "SEM: 0.013761\n"
     ]
    }
   ],
   "source": [
    "n = 16\n",
    "\n",
    "sample = np.random.choice(geneA_population,size=n)\n",
    "print \"SEM: %f\" % (np.std(sample)/np.sqrt(n))"
   ]
  },
  {
   "cell_type": "markdown",
   "metadata": {},
   "source": [
    "We can see that this is indeed close to the standard deviation of the population.\n",
    "\n",
    "In fact, when we look at the formula for the SEM we see that SEM gets larger as the sample variance increases. At the same time the SEM will decrease as the sample size $n$ increases. The square root of the samples is used to decrease the impact of the sample size on the SEM as $n$ increases.\n",
    "\n",
    "The SEM is used to compute a **confidence interval (CI)** for the mean of a population. The CI is an interval of values computed from the sample that is almost sure (set by a **level of confidence**) to cover the true population value. For instance, at a level of confidence of 95% the CI of the mean of a population is an interval of values computed from a sample drawn from this population that is 95% sure to cover the true population mean.\n",
    "\n",
    "The CI of the mean of a population is computed using a sample $x$ from the population as \n",
    "\n",
    "$$[\\overline{x} - t^* SEM,\\overline{x} + t^* SEM],$$\n",
    "\n",
    "where $t^*$ is a **T-statistic** that follows a **t-distribution** with $n-1$ degrees of freedom. Which t-distribution to use depends on the confidence level of the CI. For now it is sufficient to understand that the value for $t^*$ depends on the level of confidence. A more intuitive explanation of what a T-statistic is will be provided later in this course.\n",
    "\n",
    "The following code declares a Python function that computes the confidence interval for a certain confidence level given a sample $x$:"
   ]
  },
  {
   "cell_type": "code",
   "execution_count": 31,
   "metadata": {
    "collapsed": true
   },
   "outputs": [],
   "source": [
    "import scipy as sp\n",
    "import scipy.stats\n",
    "\n",
    "def CI_mean(x, confidence=0.95):\n",
    "    a = 1.0*np.array(x)\n",
    "    n = len(a)\n",
    "    m, se = np.mean(a), scipy.stats.sem(a)\n",
    "    h = se * sp.stats.t._ppf((1+confidence)/2., n-1)\n",
    "    return m, m-h, m+h"
   ]
  },
  {
   "cell_type": "markdown",
   "metadata": {},
   "source": [
    "Suppose we would draw 1000 samples from the population of geneA expression levels and compute a 95% CI for each sample uisng the formula given above. As we have access to the full population we can compute the percentage of samples for which the CI indeed contains the population mean. This should be very close to 95%:"
   ]
  },
  {
   "cell_type": "code",
   "execution_count": 36,
   "metadata": {
    "collapsed": false
   },
   "outputs": [
    {
     "name": "stdout",
     "output_type": "stream",
     "text": [
      "Probability that population mean is within sample CI: 0.948000\n"
     ]
    }
   ],
   "source": [
    "population_mean = np.mean(geneA_population)\n",
    "\n",
    "confidence = 0.95\n",
    "num_samples = 1000\n",
    "n = 16\n",
    "\n",
    "num_wrong = 0\n",
    "for i in range(0,num_samples):\n",
    "    m,l,h = CI_mean(np.random.choice(geneA_population,size=n),confidence)\n",
    "    if (l > population_mean) | (h < population_mean):\n",
    "        num_wrong += 1\n",
    "print \"Probability that population mean is within sample CI: %f\" % (1. - (float(num_wrong)/num_samples))"
   ]
  },
  {
   "cell_type": "markdown",
   "metadata": {},
   "source": [
    "To conclude, as long as the population is normal, one sample can be used to quantify the uncertainty (using the CI) about the mean of the population from which the sample was drawn."
   ]
  }
 ],
 "metadata": {
  "kernelspec": {
   "display_name": "Python 2",
   "language": "python",
   "name": "python2"
  },
  "language_info": {
   "codemirror_mode": {
    "name": "ipython",
    "version": 2
   },
   "file_extension": ".py",
   "mimetype": "text/x-python",
   "name": "python",
   "nbconvert_exporter": "python",
   "pygments_lexer": "ipython2",
   "version": "2.7.13"
  }
 },
 "nbformat": 4,
 "nbformat_minor": 2
}
